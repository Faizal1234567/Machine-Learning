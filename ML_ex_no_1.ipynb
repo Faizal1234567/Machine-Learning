{
  "nbformat": 4,
  "nbformat_minor": 0,
  "metadata": {
    "colab": {
      "provenance": [],
      "include_colab_link": true
    },
    "kernelspec": {
      "name": "python3",
      "display_name": "Python 3"
    },
    "language_info": {
      "name": "python"
    }
  },
  "cells": [
    {
      "cell_type": "markdown",
      "metadata": {
        "id": "view-in-github",
        "colab_type": "text"
      },
      "source": [
        "<a href=\"https://colab.research.google.com/github/Faizal1234567/Machine-Learning/blob/main/ML_ex_no_1.ipynb\" target=\"_parent\"><img src=\"https://colab.research.google.com/assets/colab-badge.svg\" alt=\"Open In Colab\"/></a>"
      ]
    },
    {
      "cell_type": "code",
      "execution_count": 1,
      "metadata": {
        "id": "-Ve4r4Ali_vE"
      },
      "outputs": [],
      "source": [
        "import numpy as np\n",
        "import pandas as pd\n",
        "import matplotlib.pyplot as plt\n",
        "import seaborn as sns\n"
      ]
    },
    {
      "cell_type": "code",
      "source": [
        "dataset = pd.read_csv('/content/Employee_Salary_Dataset.csv')\n",
        "print(dataset)\n"
      ],
      "metadata": {
        "colab": {
          "base_uri": "https://localhost:8080/"
        },
        "id": "1-QEYkBrkcFf",
        "outputId": "1d68ba62-b3a6-4cf3-968e-85906dcdcfae"
      },
      "execution_count": null,
      "outputs": [
        {
          "output_type": "stream",
          "name": "stdout",
          "text": [
            "    ID  Experience_Years  Age  Gender    Salary\n",
            "0    1                 5   28  Female    250000\n",
            "1    2                 1   21    Male     50000\n",
            "2    3                 3   23  Female    170000\n",
            "3    4                 2   22    Male     25000\n",
            "4    5                 1   17    Male     10000\n",
            "5    6                25   62    Male   5001000\n",
            "6    7                19   54  Female    800000\n",
            "7    8                 2   21  Female      9000\n",
            "8    9                10   36  Female     61500\n",
            "9   10                15   54  Female    650000\n",
            "10  11                 4   26  Female    250000\n",
            "11  12                 6   29    Male   1400000\n",
            "12  13                14   39    Male   6000050\n",
            "13  14                11   40    Male    220100\n",
            "14  15                 2   23    Male      7500\n",
            "15  16                 4   27  Female     87000\n",
            "16  17                10   34  Female    930000\n",
            "17  18                15   54  Female   7900000\n",
            "18  19                 2   21    Male     15000\n",
            "19  20                10   36    Male    330000\n",
            "20  21                15   54    Male   6570000\n",
            "21  22                 4   26    Male     25000\n",
            "22  23                 5   29    Male   6845000\n",
            "23  24                 1   21  Female      6000\n",
            "24  25                 4   23  Female      8900\n",
            "25  26                 3   22  Female     20000\n",
            "26  27                 1   18    Male      3000\n",
            "27  28                27   62  Female  10000000\n",
            "28  29                19   54  Female   5000000\n",
            "29  30                 2   21  Female      6100\n",
            "30  31                10   34    Male     80000\n",
            "31  32                15   54    Male    900000\n",
            "32  33                20   55  Female   1540000\n",
            "33  34                19   53  Female   9300000\n",
            "34  35                16   49    Male   7600000\n"
          ]
        }
      ]
    },
    {
      "cell_type": "code",
      "source": [
        "dataset.info()"
      ],
      "metadata": {
        "colab": {
          "base_uri": "https://localhost:8080/"
        },
        "id": "DYpMNBSXIij6",
        "outputId": "c4fa5e1e-f0dc-4703-e4dc-4d75b73732ae"
      },
      "execution_count": null,
      "outputs": [
        {
          "output_type": "stream",
          "name": "stdout",
          "text": [
            "<class 'pandas.core.frame.DataFrame'>\n",
            "RangeIndex: 35 entries, 0 to 34\n",
            "Data columns (total 5 columns):\n",
            " #   Column            Non-Null Count  Dtype \n",
            "---  ------            --------------  ----- \n",
            " 0   ID                35 non-null     int64 \n",
            " 1   Experience_Years  35 non-null     int64 \n",
            " 2   Age               35 non-null     int64 \n",
            " 3   Gender            35 non-null     object\n",
            " 4   Salary            35 non-null     int64 \n",
            "dtypes: int64(4), object(1)\n",
            "memory usage: 1.5+ KB\n"
          ]
        }
      ]
    },
    {
      "cell_type": "code",
      "source": [
        "dataset.describe()"
      ],
      "metadata": {
        "colab": {
          "base_uri": "https://localhost:8080/",
          "height": 300
        },
        "id": "CaCxDDAzn0XX",
        "outputId": "dede7f06-7adf-4d85-be86-94b182e6a25d"
      },
      "execution_count": null,
      "outputs": [
        {
          "output_type": "execute_result",
          "data": {
            "text/plain": [
              "              ID  Experience_Years        Age        Salary\n",
              "count  35.000000          35.00000  35.000000  3.500000e+01\n",
              "mean   18.000000           9.20000  35.485714  2.059147e+06\n",
              "std    10.246951           7.55295  14.643552  3.170124e+06\n",
              "min     1.000000           1.00000  17.000000  3.000000e+03\n",
              "25%     9.500000           2.50000  22.500000  2.250000e+04\n",
              "50%    18.000000           6.00000  29.000000  2.500000e+05\n",
              "75%    26.500000          15.00000  53.500000  3.270000e+06\n",
              "max    35.000000          27.00000  62.000000  1.000000e+07"
            ],
            "text/html": [
              "\n",
              "  <div id=\"df-4a331fef-5f58-4719-8954-712fd276f8b1\" class=\"colab-df-container\">\n",
              "    <div>\n",
              "<style scoped>\n",
              "    .dataframe tbody tr th:only-of-type {\n",
              "        vertical-align: middle;\n",
              "    }\n",
              "\n",
              "    .dataframe tbody tr th {\n",
              "        vertical-align: top;\n",
              "    }\n",
              "\n",
              "    .dataframe thead th {\n",
              "        text-align: right;\n",
              "    }\n",
              "</style>\n",
              "<table border=\"1\" class=\"dataframe\">\n",
              "  <thead>\n",
              "    <tr style=\"text-align: right;\">\n",
              "      <th></th>\n",
              "      <th>ID</th>\n",
              "      <th>Experience_Years</th>\n",
              "      <th>Age</th>\n",
              "      <th>Salary</th>\n",
              "    </tr>\n",
              "  </thead>\n",
              "  <tbody>\n",
              "    <tr>\n",
              "      <th>count</th>\n",
              "      <td>35.000000</td>\n",
              "      <td>35.00000</td>\n",
              "      <td>35.000000</td>\n",
              "      <td>3.500000e+01</td>\n",
              "    </tr>\n",
              "    <tr>\n",
              "      <th>mean</th>\n",
              "      <td>18.000000</td>\n",
              "      <td>9.20000</td>\n",
              "      <td>35.485714</td>\n",
              "      <td>2.059147e+06</td>\n",
              "    </tr>\n",
              "    <tr>\n",
              "      <th>std</th>\n",
              "      <td>10.246951</td>\n",
              "      <td>7.55295</td>\n",
              "      <td>14.643552</td>\n",
              "      <td>3.170124e+06</td>\n",
              "    </tr>\n",
              "    <tr>\n",
              "      <th>min</th>\n",
              "      <td>1.000000</td>\n",
              "      <td>1.00000</td>\n",
              "      <td>17.000000</td>\n",
              "      <td>3.000000e+03</td>\n",
              "    </tr>\n",
              "    <tr>\n",
              "      <th>25%</th>\n",
              "      <td>9.500000</td>\n",
              "      <td>2.50000</td>\n",
              "      <td>22.500000</td>\n",
              "      <td>2.250000e+04</td>\n",
              "    </tr>\n",
              "    <tr>\n",
              "      <th>50%</th>\n",
              "      <td>18.000000</td>\n",
              "      <td>6.00000</td>\n",
              "      <td>29.000000</td>\n",
              "      <td>2.500000e+05</td>\n",
              "    </tr>\n",
              "    <tr>\n",
              "      <th>75%</th>\n",
              "      <td>26.500000</td>\n",
              "      <td>15.00000</td>\n",
              "      <td>53.500000</td>\n",
              "      <td>3.270000e+06</td>\n",
              "    </tr>\n",
              "    <tr>\n",
              "      <th>max</th>\n",
              "      <td>35.000000</td>\n",
              "      <td>27.00000</td>\n",
              "      <td>62.000000</td>\n",
              "      <td>1.000000e+07</td>\n",
              "    </tr>\n",
              "  </tbody>\n",
              "</table>\n",
              "</div>\n",
              "    <div class=\"colab-df-buttons\">\n",
              "\n",
              "  <div class=\"colab-df-container\">\n",
              "    <button class=\"colab-df-convert\" onclick=\"convertToInteractive('df-4a331fef-5f58-4719-8954-712fd276f8b1')\"\n",
              "            title=\"Convert this dataframe to an interactive table.\"\n",
              "            style=\"display:none;\">\n",
              "\n",
              "  <svg xmlns=\"http://www.w3.org/2000/svg\" height=\"24px\" viewBox=\"0 -960 960 960\">\n",
              "    <path d=\"M120-120v-720h720v720H120Zm60-500h600v-160H180v160Zm220 220h160v-160H400v160Zm0 220h160v-160H400v160ZM180-400h160v-160H180v160Zm440 0h160v-160H620v160ZM180-180h160v-160H180v160Zm440 0h160v-160H620v160Z\"/>\n",
              "  </svg>\n",
              "    </button>\n",
              "\n",
              "  <style>\n",
              "    .colab-df-container {\n",
              "      display:flex;\n",
              "      gap: 12px;\n",
              "    }\n",
              "\n",
              "    .colab-df-convert {\n",
              "      background-color: #E8F0FE;\n",
              "      border: none;\n",
              "      border-radius: 50%;\n",
              "      cursor: pointer;\n",
              "      display: none;\n",
              "      fill: #1967D2;\n",
              "      height: 32px;\n",
              "      padding: 0 0 0 0;\n",
              "      width: 32px;\n",
              "    }\n",
              "\n",
              "    .colab-df-convert:hover {\n",
              "      background-color: #E2EBFA;\n",
              "      box-shadow: 0px 1px 2px rgba(60, 64, 67, 0.3), 0px 1px 3px 1px rgba(60, 64, 67, 0.15);\n",
              "      fill: #174EA6;\n",
              "    }\n",
              "\n",
              "    .colab-df-buttons div {\n",
              "      margin-bottom: 4px;\n",
              "    }\n",
              "\n",
              "    [theme=dark] .colab-df-convert {\n",
              "      background-color: #3B4455;\n",
              "      fill: #D2E3FC;\n",
              "    }\n",
              "\n",
              "    [theme=dark] .colab-df-convert:hover {\n",
              "      background-color: #434B5C;\n",
              "      box-shadow: 0px 1px 3px 1px rgba(0, 0, 0, 0.15);\n",
              "      filter: drop-shadow(0px 1px 2px rgba(0, 0, 0, 0.3));\n",
              "      fill: #FFFFFF;\n",
              "    }\n",
              "  </style>\n",
              "\n",
              "    <script>\n",
              "      const buttonEl =\n",
              "        document.querySelector('#df-4a331fef-5f58-4719-8954-712fd276f8b1 button.colab-df-convert');\n",
              "      buttonEl.style.display =\n",
              "        google.colab.kernel.accessAllowed ? 'block' : 'none';\n",
              "\n",
              "      async function convertToInteractive(key) {\n",
              "        const element = document.querySelector('#df-4a331fef-5f58-4719-8954-712fd276f8b1');\n",
              "        const dataTable =\n",
              "          await google.colab.kernel.invokeFunction('convertToInteractive',\n",
              "                                                    [key], {});\n",
              "        if (!dataTable) return;\n",
              "\n",
              "        const docLinkHtml = 'Like what you see? Visit the ' +\n",
              "          '<a target=\"_blank\" href=https://colab.research.google.com/notebooks/data_table.ipynb>data table notebook</a>'\n",
              "          + ' to learn more about interactive tables.';\n",
              "        element.innerHTML = '';\n",
              "        dataTable['output_type'] = 'display_data';\n",
              "        await google.colab.output.renderOutput(dataTable, element);\n",
              "        const docLink = document.createElement('div');\n",
              "        docLink.innerHTML = docLinkHtml;\n",
              "        element.appendChild(docLink);\n",
              "      }\n",
              "    </script>\n",
              "  </div>\n",
              "\n",
              "\n",
              "<div id=\"df-42a3bc25-ddeb-49d4-90ac-5cfa9782be57\">\n",
              "  <button class=\"colab-df-quickchart\" onclick=\"quickchart('df-42a3bc25-ddeb-49d4-90ac-5cfa9782be57')\"\n",
              "            title=\"Suggest charts\"\n",
              "            style=\"display:none;\">\n",
              "\n",
              "<svg xmlns=\"http://www.w3.org/2000/svg\" height=\"24px\"viewBox=\"0 0 24 24\"\n",
              "     width=\"24px\">\n",
              "    <g>\n",
              "        <path d=\"M19 3H5c-1.1 0-2 .9-2 2v14c0 1.1.9 2 2 2h14c1.1 0 2-.9 2-2V5c0-1.1-.9-2-2-2zM9 17H7v-7h2v7zm4 0h-2V7h2v10zm4 0h-2v-4h2v4z\"/>\n",
              "    </g>\n",
              "</svg>\n",
              "  </button>\n",
              "\n",
              "<style>\n",
              "  .colab-df-quickchart {\n",
              "      --bg-color: #E8F0FE;\n",
              "      --fill-color: #1967D2;\n",
              "      --hover-bg-color: #E2EBFA;\n",
              "      --hover-fill-color: #174EA6;\n",
              "      --disabled-fill-color: #AAA;\n",
              "      --disabled-bg-color: #DDD;\n",
              "  }\n",
              "\n",
              "  [theme=dark] .colab-df-quickchart {\n",
              "      --bg-color: #3B4455;\n",
              "      --fill-color: #D2E3FC;\n",
              "      --hover-bg-color: #434B5C;\n",
              "      --hover-fill-color: #FFFFFF;\n",
              "      --disabled-bg-color: #3B4455;\n",
              "      --disabled-fill-color: #666;\n",
              "  }\n",
              "\n",
              "  .colab-df-quickchart {\n",
              "    background-color: var(--bg-color);\n",
              "    border: none;\n",
              "    border-radius: 50%;\n",
              "    cursor: pointer;\n",
              "    display: none;\n",
              "    fill: var(--fill-color);\n",
              "    height: 32px;\n",
              "    padding: 0;\n",
              "    width: 32px;\n",
              "  }\n",
              "\n",
              "  .colab-df-quickchart:hover {\n",
              "    background-color: var(--hover-bg-color);\n",
              "    box-shadow: 0 1px 2px rgba(60, 64, 67, 0.3), 0 1px 3px 1px rgba(60, 64, 67, 0.15);\n",
              "    fill: var(--button-hover-fill-color);\n",
              "  }\n",
              "\n",
              "  .colab-df-quickchart-complete:disabled,\n",
              "  .colab-df-quickchart-complete:disabled:hover {\n",
              "    background-color: var(--disabled-bg-color);\n",
              "    fill: var(--disabled-fill-color);\n",
              "    box-shadow: none;\n",
              "  }\n",
              "\n",
              "  .colab-df-spinner {\n",
              "    border: 2px solid var(--fill-color);\n",
              "    border-color: transparent;\n",
              "    border-bottom-color: var(--fill-color);\n",
              "    animation:\n",
              "      spin 1s steps(1) infinite;\n",
              "  }\n",
              "\n",
              "  @keyframes spin {\n",
              "    0% {\n",
              "      border-color: transparent;\n",
              "      border-bottom-color: var(--fill-color);\n",
              "      border-left-color: var(--fill-color);\n",
              "    }\n",
              "    20% {\n",
              "      border-color: transparent;\n",
              "      border-left-color: var(--fill-color);\n",
              "      border-top-color: var(--fill-color);\n",
              "    }\n",
              "    30% {\n",
              "      border-color: transparent;\n",
              "      border-left-color: var(--fill-color);\n",
              "      border-top-color: var(--fill-color);\n",
              "      border-right-color: var(--fill-color);\n",
              "    }\n",
              "    40% {\n",
              "      border-color: transparent;\n",
              "      border-right-color: var(--fill-color);\n",
              "      border-top-color: var(--fill-color);\n",
              "    }\n",
              "    60% {\n",
              "      border-color: transparent;\n",
              "      border-right-color: var(--fill-color);\n",
              "    }\n",
              "    80% {\n",
              "      border-color: transparent;\n",
              "      border-right-color: var(--fill-color);\n",
              "      border-bottom-color: var(--fill-color);\n",
              "    }\n",
              "    90% {\n",
              "      border-color: transparent;\n",
              "      border-bottom-color: var(--fill-color);\n",
              "    }\n",
              "  }\n",
              "</style>\n",
              "\n",
              "  <script>\n",
              "    async function quickchart(key) {\n",
              "      const quickchartButtonEl =\n",
              "        document.querySelector('#' + key + ' button');\n",
              "      quickchartButtonEl.disabled = true;  // To prevent multiple clicks.\n",
              "      quickchartButtonEl.classList.add('colab-df-spinner');\n",
              "      try {\n",
              "        const charts = await google.colab.kernel.invokeFunction(\n",
              "            'suggestCharts', [key], {});\n",
              "      } catch (error) {\n",
              "        console.error('Error during call to suggestCharts:', error);\n",
              "      }\n",
              "      quickchartButtonEl.classList.remove('colab-df-spinner');\n",
              "      quickchartButtonEl.classList.add('colab-df-quickchart-complete');\n",
              "    }\n",
              "    (() => {\n",
              "      let quickchartButtonEl =\n",
              "        document.querySelector('#df-42a3bc25-ddeb-49d4-90ac-5cfa9782be57 button');\n",
              "      quickchartButtonEl.style.display =\n",
              "        google.colab.kernel.accessAllowed ? 'block' : 'none';\n",
              "    })();\n",
              "  </script>\n",
              "</div>\n",
              "\n",
              "    </div>\n",
              "  </div>\n"
            ],
            "application/vnd.google.colaboratory.intrinsic+json": {
              "type": "dataframe",
              "summary": "{\n  \"name\": \"dataset\",\n  \"rows\": 8,\n  \"fields\": [\n    {\n      \"column\": \"ID\",\n      \"properties\": {\n        \"dtype\": \"number\",\n        \"std\": 12.310979478944478,\n        \"min\": 1.0,\n        \"max\": 35.0,\n        \"num_unique_values\": 6,\n        \"samples\": [\n          35.0,\n          18.0,\n          26.5\n        ],\n        \"semantic_type\": \"\",\n        \"description\": \"\"\n      }\n    },\n    {\n      \"column\": \"Experience_Years\",\n      \"properties\": {\n        \"dtype\": \"number\",\n        \"std\": 12.137842769088563,\n        \"min\": 1.0,\n        \"max\": 35.0,\n        \"num_unique_values\": 8,\n        \"samples\": [\n          9.2,\n          6.0,\n          35.0\n        ],\n        \"semantic_type\": \"\",\n        \"description\": \"\"\n      }\n    },\n    {\n      \"column\": \"Age\",\n      \"properties\": {\n        \"dtype\": \"number\",\n        \"std\": 16.849541279700418,\n        \"min\": 14.643551940884361,\n        \"max\": 62.0,\n        \"num_unique_values\": 8,\n        \"samples\": [\n          35.48571428571429,\n          29.0,\n          35.0\n        ],\n        \"semantic_type\": \"\",\n        \"description\": \"\"\n      }\n    },\n    {\n      \"column\": \"Salary\",\n      \"properties\": {\n        \"dtype\": \"number\",\n        \"std\": 3401344.6830481617,\n        \"min\": 35.0,\n        \"max\": 10000000.0,\n        \"num_unique_values\": 8,\n        \"samples\": [\n          2059147.142857143,\n          250000.0,\n          35.0\n        ],\n        \"semantic_type\": \"\",\n        \"description\": \"\"\n      }\n    }\n  ]\n}"
            }
          },
          "metadata": {},
          "execution_count": 4
        }
      ]
    },
    {
      "cell_type": "code",
      "source": [
        "dataset.drop_duplicates\n",
        "print(dataset)"
      ],
      "metadata": {
        "colab": {
          "base_uri": "https://localhost:8080/"
        },
        "id": "xc6UYH8QpIIf",
        "outputId": "82b19029-e976-4d06-a591-b63448aa51c8"
      },
      "execution_count": null,
      "outputs": [
        {
          "output_type": "stream",
          "name": "stdout",
          "text": [
            "    ID  Experience_Years  Age  Gender    Salary\n",
            "0    1                 5   28  Female    250000\n",
            "1    2                 1   21    Male     50000\n",
            "2    3                 3   23  Female    170000\n",
            "3    4                 2   22    Male     25000\n",
            "4    5                 1   17    Male     10000\n",
            "5    6                25   62    Male   5001000\n",
            "6    7                19   54  Female    800000\n",
            "7    8                 2   21  Female      9000\n",
            "8    9                10   36  Female     61500\n",
            "9   10                15   54  Female    650000\n",
            "10  11                 4   26  Female    250000\n",
            "11  12                 6   29    Male   1400000\n",
            "12  13                14   39    Male   6000050\n",
            "13  14                11   40    Male    220100\n",
            "14  15                 2   23    Male      7500\n",
            "15  16                 4   27  Female     87000\n",
            "16  17                10   34  Female    930000\n",
            "17  18                15   54  Female   7900000\n",
            "18  19                 2   21    Male     15000\n",
            "19  20                10   36    Male    330000\n",
            "20  21                15   54    Male   6570000\n",
            "21  22                 4   26    Male     25000\n",
            "22  23                 5   29    Male   6845000\n",
            "23  24                 1   21  Female      6000\n",
            "24  25                 4   23  Female      8900\n",
            "25  26                 3   22  Female     20000\n",
            "26  27                 1   18    Male      3000\n",
            "27  28                27   62  Female  10000000\n",
            "28  29                19   54  Female   5000000\n",
            "29  30                 2   21  Female      6100\n",
            "30  31                10   34    Male     80000\n",
            "31  32                15   54    Male    900000\n",
            "32  33                20   55  Female   1540000\n",
            "33  34                19   53  Female   9300000\n",
            "34  35                16   49    Male   7600000\n"
          ]
        }
      ]
    },
    {
      "cell_type": "code",
      "source": [
        "dataset.isnull()"
      ],
      "metadata": {
        "colab": {
          "base_uri": "https://localhost:8080/",
          "height": 1000
        },
        "id": "Vhd04IiisaOo",
        "outputId": "b1d8ba67-c5d1-458c-8ce7-6bdacfa0af58"
      },
      "execution_count": null,
      "outputs": [
        {
          "output_type": "execute_result",
          "data": {
            "text/plain": [
              "       ID  Experience_Years    Age  Gender  Salary\n",
              "0   False             False  False   False   False\n",
              "1   False             False  False   False   False\n",
              "2   False             False  False   False   False\n",
              "3   False             False  False   False   False\n",
              "4   False             False  False   False   False\n",
              "5   False             False  False   False   False\n",
              "6   False             False  False   False   False\n",
              "7   False             False  False   False   False\n",
              "8   False             False  False   False   False\n",
              "9   False             False  False   False   False\n",
              "10  False             False  False   False   False\n",
              "11  False             False  False   False   False\n",
              "12  False             False  False   False   False\n",
              "13  False             False  False   False   False\n",
              "14  False             False  False   False   False\n",
              "15  False             False  False   False   False\n",
              "16  False             False  False   False   False\n",
              "17  False             False  False   False   False\n",
              "18  False             False  False   False   False\n",
              "19  False             False  False   False   False\n",
              "20  False             False  False   False   False\n",
              "21  False             False  False   False   False\n",
              "22  False             False  False   False   False\n",
              "23  False             False  False   False   False\n",
              "24  False             False  False   False   False\n",
              "25  False             False  False   False   False\n",
              "26  False             False  False   False   False\n",
              "27  False             False  False   False   False\n",
              "28  False             False  False   False   False\n",
              "29  False             False  False   False   False\n",
              "30  False             False  False   False   False\n",
              "31  False             False  False   False   False\n",
              "32  False             False  False   False   False\n",
              "33  False             False  False   False   False\n",
              "34  False             False  False   False   False"
            ],
            "text/html": [
              "\n",
              "  <div id=\"df-2963fd0f-a280-4b10-8e1d-583f61f0ebff\" class=\"colab-df-container\">\n",
              "    <div>\n",
              "<style scoped>\n",
              "    .dataframe tbody tr th:only-of-type {\n",
              "        vertical-align: middle;\n",
              "    }\n",
              "\n",
              "    .dataframe tbody tr th {\n",
              "        vertical-align: top;\n",
              "    }\n",
              "\n",
              "    .dataframe thead th {\n",
              "        text-align: right;\n",
              "    }\n",
              "</style>\n",
              "<table border=\"1\" class=\"dataframe\">\n",
              "  <thead>\n",
              "    <tr style=\"text-align: right;\">\n",
              "      <th></th>\n",
              "      <th>ID</th>\n",
              "      <th>Experience_Years</th>\n",
              "      <th>Age</th>\n",
              "      <th>Gender</th>\n",
              "      <th>Salary</th>\n",
              "    </tr>\n",
              "  </thead>\n",
              "  <tbody>\n",
              "    <tr>\n",
              "      <th>0</th>\n",
              "      <td>False</td>\n",
              "      <td>False</td>\n",
              "      <td>False</td>\n",
              "      <td>False</td>\n",
              "      <td>False</td>\n",
              "    </tr>\n",
              "    <tr>\n",
              "      <th>1</th>\n",
              "      <td>False</td>\n",
              "      <td>False</td>\n",
              "      <td>False</td>\n",
              "      <td>False</td>\n",
              "      <td>False</td>\n",
              "    </tr>\n",
              "    <tr>\n",
              "      <th>2</th>\n",
              "      <td>False</td>\n",
              "      <td>False</td>\n",
              "      <td>False</td>\n",
              "      <td>False</td>\n",
              "      <td>False</td>\n",
              "    </tr>\n",
              "    <tr>\n",
              "      <th>3</th>\n",
              "      <td>False</td>\n",
              "      <td>False</td>\n",
              "      <td>False</td>\n",
              "      <td>False</td>\n",
              "      <td>False</td>\n",
              "    </tr>\n",
              "    <tr>\n",
              "      <th>4</th>\n",
              "      <td>False</td>\n",
              "      <td>False</td>\n",
              "      <td>False</td>\n",
              "      <td>False</td>\n",
              "      <td>False</td>\n",
              "    </tr>\n",
              "    <tr>\n",
              "      <th>5</th>\n",
              "      <td>False</td>\n",
              "      <td>False</td>\n",
              "      <td>False</td>\n",
              "      <td>False</td>\n",
              "      <td>False</td>\n",
              "    </tr>\n",
              "    <tr>\n",
              "      <th>6</th>\n",
              "      <td>False</td>\n",
              "      <td>False</td>\n",
              "      <td>False</td>\n",
              "      <td>False</td>\n",
              "      <td>False</td>\n",
              "    </tr>\n",
              "    <tr>\n",
              "      <th>7</th>\n",
              "      <td>False</td>\n",
              "      <td>False</td>\n",
              "      <td>False</td>\n",
              "      <td>False</td>\n",
              "      <td>False</td>\n",
              "    </tr>\n",
              "    <tr>\n",
              "      <th>8</th>\n",
              "      <td>False</td>\n",
              "      <td>False</td>\n",
              "      <td>False</td>\n",
              "      <td>False</td>\n",
              "      <td>False</td>\n",
              "    </tr>\n",
              "    <tr>\n",
              "      <th>9</th>\n",
              "      <td>False</td>\n",
              "      <td>False</td>\n",
              "      <td>False</td>\n",
              "      <td>False</td>\n",
              "      <td>False</td>\n",
              "    </tr>\n",
              "    <tr>\n",
              "      <th>10</th>\n",
              "      <td>False</td>\n",
              "      <td>False</td>\n",
              "      <td>False</td>\n",
              "      <td>False</td>\n",
              "      <td>False</td>\n",
              "    </tr>\n",
              "    <tr>\n",
              "      <th>11</th>\n",
              "      <td>False</td>\n",
              "      <td>False</td>\n",
              "      <td>False</td>\n",
              "      <td>False</td>\n",
              "      <td>False</td>\n",
              "    </tr>\n",
              "    <tr>\n",
              "      <th>12</th>\n",
              "      <td>False</td>\n",
              "      <td>False</td>\n",
              "      <td>False</td>\n",
              "      <td>False</td>\n",
              "      <td>False</td>\n",
              "    </tr>\n",
              "    <tr>\n",
              "      <th>13</th>\n",
              "      <td>False</td>\n",
              "      <td>False</td>\n",
              "      <td>False</td>\n",
              "      <td>False</td>\n",
              "      <td>False</td>\n",
              "    </tr>\n",
              "    <tr>\n",
              "      <th>14</th>\n",
              "      <td>False</td>\n",
              "      <td>False</td>\n",
              "      <td>False</td>\n",
              "      <td>False</td>\n",
              "      <td>False</td>\n",
              "    </tr>\n",
              "    <tr>\n",
              "      <th>15</th>\n",
              "      <td>False</td>\n",
              "      <td>False</td>\n",
              "      <td>False</td>\n",
              "      <td>False</td>\n",
              "      <td>False</td>\n",
              "    </tr>\n",
              "    <tr>\n",
              "      <th>16</th>\n",
              "      <td>False</td>\n",
              "      <td>False</td>\n",
              "      <td>False</td>\n",
              "      <td>False</td>\n",
              "      <td>False</td>\n",
              "    </tr>\n",
              "    <tr>\n",
              "      <th>17</th>\n",
              "      <td>False</td>\n",
              "      <td>False</td>\n",
              "      <td>False</td>\n",
              "      <td>False</td>\n",
              "      <td>False</td>\n",
              "    </tr>\n",
              "    <tr>\n",
              "      <th>18</th>\n",
              "      <td>False</td>\n",
              "      <td>False</td>\n",
              "      <td>False</td>\n",
              "      <td>False</td>\n",
              "      <td>False</td>\n",
              "    </tr>\n",
              "    <tr>\n",
              "      <th>19</th>\n",
              "      <td>False</td>\n",
              "      <td>False</td>\n",
              "      <td>False</td>\n",
              "      <td>False</td>\n",
              "      <td>False</td>\n",
              "    </tr>\n",
              "    <tr>\n",
              "      <th>20</th>\n",
              "      <td>False</td>\n",
              "      <td>False</td>\n",
              "      <td>False</td>\n",
              "      <td>False</td>\n",
              "      <td>False</td>\n",
              "    </tr>\n",
              "    <tr>\n",
              "      <th>21</th>\n",
              "      <td>False</td>\n",
              "      <td>False</td>\n",
              "      <td>False</td>\n",
              "      <td>False</td>\n",
              "      <td>False</td>\n",
              "    </tr>\n",
              "    <tr>\n",
              "      <th>22</th>\n",
              "      <td>False</td>\n",
              "      <td>False</td>\n",
              "      <td>False</td>\n",
              "      <td>False</td>\n",
              "      <td>False</td>\n",
              "    </tr>\n",
              "    <tr>\n",
              "      <th>23</th>\n",
              "      <td>False</td>\n",
              "      <td>False</td>\n",
              "      <td>False</td>\n",
              "      <td>False</td>\n",
              "      <td>False</td>\n",
              "    </tr>\n",
              "    <tr>\n",
              "      <th>24</th>\n",
              "      <td>False</td>\n",
              "      <td>False</td>\n",
              "      <td>False</td>\n",
              "      <td>False</td>\n",
              "      <td>False</td>\n",
              "    </tr>\n",
              "    <tr>\n",
              "      <th>25</th>\n",
              "      <td>False</td>\n",
              "      <td>False</td>\n",
              "      <td>False</td>\n",
              "      <td>False</td>\n",
              "      <td>False</td>\n",
              "    </tr>\n",
              "    <tr>\n",
              "      <th>26</th>\n",
              "      <td>False</td>\n",
              "      <td>False</td>\n",
              "      <td>False</td>\n",
              "      <td>False</td>\n",
              "      <td>False</td>\n",
              "    </tr>\n",
              "    <tr>\n",
              "      <th>27</th>\n",
              "      <td>False</td>\n",
              "      <td>False</td>\n",
              "      <td>False</td>\n",
              "      <td>False</td>\n",
              "      <td>False</td>\n",
              "    </tr>\n",
              "    <tr>\n",
              "      <th>28</th>\n",
              "      <td>False</td>\n",
              "      <td>False</td>\n",
              "      <td>False</td>\n",
              "      <td>False</td>\n",
              "      <td>False</td>\n",
              "    </tr>\n",
              "    <tr>\n",
              "      <th>29</th>\n",
              "      <td>False</td>\n",
              "      <td>False</td>\n",
              "      <td>False</td>\n",
              "      <td>False</td>\n",
              "      <td>False</td>\n",
              "    </tr>\n",
              "    <tr>\n",
              "      <th>30</th>\n",
              "      <td>False</td>\n",
              "      <td>False</td>\n",
              "      <td>False</td>\n",
              "      <td>False</td>\n",
              "      <td>False</td>\n",
              "    </tr>\n",
              "    <tr>\n",
              "      <th>31</th>\n",
              "      <td>False</td>\n",
              "      <td>False</td>\n",
              "      <td>False</td>\n",
              "      <td>False</td>\n",
              "      <td>False</td>\n",
              "    </tr>\n",
              "    <tr>\n",
              "      <th>32</th>\n",
              "      <td>False</td>\n",
              "      <td>False</td>\n",
              "      <td>False</td>\n",
              "      <td>False</td>\n",
              "      <td>False</td>\n",
              "    </tr>\n",
              "    <tr>\n",
              "      <th>33</th>\n",
              "      <td>False</td>\n",
              "      <td>False</td>\n",
              "      <td>False</td>\n",
              "      <td>False</td>\n",
              "      <td>False</td>\n",
              "    </tr>\n",
              "    <tr>\n",
              "      <th>34</th>\n",
              "      <td>False</td>\n",
              "      <td>False</td>\n",
              "      <td>False</td>\n",
              "      <td>False</td>\n",
              "      <td>False</td>\n",
              "    </tr>\n",
              "  </tbody>\n",
              "</table>\n",
              "</div>\n",
              "    <div class=\"colab-df-buttons\">\n",
              "\n",
              "  <div class=\"colab-df-container\">\n",
              "    <button class=\"colab-df-convert\" onclick=\"convertToInteractive('df-2963fd0f-a280-4b10-8e1d-583f61f0ebff')\"\n",
              "            title=\"Convert this dataframe to an interactive table.\"\n",
              "            style=\"display:none;\">\n",
              "\n",
              "  <svg xmlns=\"http://www.w3.org/2000/svg\" height=\"24px\" viewBox=\"0 -960 960 960\">\n",
              "    <path d=\"M120-120v-720h720v720H120Zm60-500h600v-160H180v160Zm220 220h160v-160H400v160Zm0 220h160v-160H400v160ZM180-400h160v-160H180v160Zm440 0h160v-160H620v160ZM180-180h160v-160H180v160Zm440 0h160v-160H620v160Z\"/>\n",
              "  </svg>\n",
              "    </button>\n",
              "\n",
              "  <style>\n",
              "    .colab-df-container {\n",
              "      display:flex;\n",
              "      gap: 12px;\n",
              "    }\n",
              "\n",
              "    .colab-df-convert {\n",
              "      background-color: #E8F0FE;\n",
              "      border: none;\n",
              "      border-radius: 50%;\n",
              "      cursor: pointer;\n",
              "      display: none;\n",
              "      fill: #1967D2;\n",
              "      height: 32px;\n",
              "      padding: 0 0 0 0;\n",
              "      width: 32px;\n",
              "    }\n",
              "\n",
              "    .colab-df-convert:hover {\n",
              "      background-color: #E2EBFA;\n",
              "      box-shadow: 0px 1px 2px rgba(60, 64, 67, 0.3), 0px 1px 3px 1px rgba(60, 64, 67, 0.15);\n",
              "      fill: #174EA6;\n",
              "    }\n",
              "\n",
              "    .colab-df-buttons div {\n",
              "      margin-bottom: 4px;\n",
              "    }\n",
              "\n",
              "    [theme=dark] .colab-df-convert {\n",
              "      background-color: #3B4455;\n",
              "      fill: #D2E3FC;\n",
              "    }\n",
              "\n",
              "    [theme=dark] .colab-df-convert:hover {\n",
              "      background-color: #434B5C;\n",
              "      box-shadow: 0px 1px 3px 1px rgba(0, 0, 0, 0.15);\n",
              "      filter: drop-shadow(0px 1px 2px rgba(0, 0, 0, 0.3));\n",
              "      fill: #FFFFFF;\n",
              "    }\n",
              "  </style>\n",
              "\n",
              "    <script>\n",
              "      const buttonEl =\n",
              "        document.querySelector('#df-2963fd0f-a280-4b10-8e1d-583f61f0ebff button.colab-df-convert');\n",
              "      buttonEl.style.display =\n",
              "        google.colab.kernel.accessAllowed ? 'block' : 'none';\n",
              "\n",
              "      async function convertToInteractive(key) {\n",
              "        const element = document.querySelector('#df-2963fd0f-a280-4b10-8e1d-583f61f0ebff');\n",
              "        const dataTable =\n",
              "          await google.colab.kernel.invokeFunction('convertToInteractive',\n",
              "                                                    [key], {});\n",
              "        if (!dataTable) return;\n",
              "\n",
              "        const docLinkHtml = 'Like what you see? Visit the ' +\n",
              "          '<a target=\"_blank\" href=https://colab.research.google.com/notebooks/data_table.ipynb>data table notebook</a>'\n",
              "          + ' to learn more about interactive tables.';\n",
              "        element.innerHTML = '';\n",
              "        dataTable['output_type'] = 'display_data';\n",
              "        await google.colab.output.renderOutput(dataTable, element);\n",
              "        const docLink = document.createElement('div');\n",
              "        docLink.innerHTML = docLinkHtml;\n",
              "        element.appendChild(docLink);\n",
              "      }\n",
              "    </script>\n",
              "  </div>\n",
              "\n",
              "\n",
              "<div id=\"df-02d694b1-abd1-4028-84d2-e1f2218ec997\">\n",
              "  <button class=\"colab-df-quickchart\" onclick=\"quickchart('df-02d694b1-abd1-4028-84d2-e1f2218ec997')\"\n",
              "            title=\"Suggest charts\"\n",
              "            style=\"display:none;\">\n",
              "\n",
              "<svg xmlns=\"http://www.w3.org/2000/svg\" height=\"24px\"viewBox=\"0 0 24 24\"\n",
              "     width=\"24px\">\n",
              "    <g>\n",
              "        <path d=\"M19 3H5c-1.1 0-2 .9-2 2v14c0 1.1.9 2 2 2h14c1.1 0 2-.9 2-2V5c0-1.1-.9-2-2-2zM9 17H7v-7h2v7zm4 0h-2V7h2v10zm4 0h-2v-4h2v4z\"/>\n",
              "    </g>\n",
              "</svg>\n",
              "  </button>\n",
              "\n",
              "<style>\n",
              "  .colab-df-quickchart {\n",
              "      --bg-color: #E8F0FE;\n",
              "      --fill-color: #1967D2;\n",
              "      --hover-bg-color: #E2EBFA;\n",
              "      --hover-fill-color: #174EA6;\n",
              "      --disabled-fill-color: #AAA;\n",
              "      --disabled-bg-color: #DDD;\n",
              "  }\n",
              "\n",
              "  [theme=dark] .colab-df-quickchart {\n",
              "      --bg-color: #3B4455;\n",
              "      --fill-color: #D2E3FC;\n",
              "      --hover-bg-color: #434B5C;\n",
              "      --hover-fill-color: #FFFFFF;\n",
              "      --disabled-bg-color: #3B4455;\n",
              "      --disabled-fill-color: #666;\n",
              "  }\n",
              "\n",
              "  .colab-df-quickchart {\n",
              "    background-color: var(--bg-color);\n",
              "    border: none;\n",
              "    border-radius: 50%;\n",
              "    cursor: pointer;\n",
              "    display: none;\n",
              "    fill: var(--fill-color);\n",
              "    height: 32px;\n",
              "    padding: 0;\n",
              "    width: 32px;\n",
              "  }\n",
              "\n",
              "  .colab-df-quickchart:hover {\n",
              "    background-color: var(--hover-bg-color);\n",
              "    box-shadow: 0 1px 2px rgba(60, 64, 67, 0.3), 0 1px 3px 1px rgba(60, 64, 67, 0.15);\n",
              "    fill: var(--button-hover-fill-color);\n",
              "  }\n",
              "\n",
              "  .colab-df-quickchart-complete:disabled,\n",
              "  .colab-df-quickchart-complete:disabled:hover {\n",
              "    background-color: var(--disabled-bg-color);\n",
              "    fill: var(--disabled-fill-color);\n",
              "    box-shadow: none;\n",
              "  }\n",
              "\n",
              "  .colab-df-spinner {\n",
              "    border: 2px solid var(--fill-color);\n",
              "    border-color: transparent;\n",
              "    border-bottom-color: var(--fill-color);\n",
              "    animation:\n",
              "      spin 1s steps(1) infinite;\n",
              "  }\n",
              "\n",
              "  @keyframes spin {\n",
              "    0% {\n",
              "      border-color: transparent;\n",
              "      border-bottom-color: var(--fill-color);\n",
              "      border-left-color: var(--fill-color);\n",
              "    }\n",
              "    20% {\n",
              "      border-color: transparent;\n",
              "      border-left-color: var(--fill-color);\n",
              "      border-top-color: var(--fill-color);\n",
              "    }\n",
              "    30% {\n",
              "      border-color: transparent;\n",
              "      border-left-color: var(--fill-color);\n",
              "      border-top-color: var(--fill-color);\n",
              "      border-right-color: var(--fill-color);\n",
              "    }\n",
              "    40% {\n",
              "      border-color: transparent;\n",
              "      border-right-color: var(--fill-color);\n",
              "      border-top-color: var(--fill-color);\n",
              "    }\n",
              "    60% {\n",
              "      border-color: transparent;\n",
              "      border-right-color: var(--fill-color);\n",
              "    }\n",
              "    80% {\n",
              "      border-color: transparent;\n",
              "      border-right-color: var(--fill-color);\n",
              "      border-bottom-color: var(--fill-color);\n",
              "    }\n",
              "    90% {\n",
              "      border-color: transparent;\n",
              "      border-bottom-color: var(--fill-color);\n",
              "    }\n",
              "  }\n",
              "</style>\n",
              "\n",
              "  <script>\n",
              "    async function quickchart(key) {\n",
              "      const quickchartButtonEl =\n",
              "        document.querySelector('#' + key + ' button');\n",
              "      quickchartButtonEl.disabled = true;  // To prevent multiple clicks.\n",
              "      quickchartButtonEl.classList.add('colab-df-spinner');\n",
              "      try {\n",
              "        const charts = await google.colab.kernel.invokeFunction(\n",
              "            'suggestCharts', [key], {});\n",
              "      } catch (error) {\n",
              "        console.error('Error during call to suggestCharts:', error);\n",
              "      }\n",
              "      quickchartButtonEl.classList.remove('colab-df-spinner');\n",
              "      quickchartButtonEl.classList.add('colab-df-quickchart-complete');\n",
              "    }\n",
              "    (() => {\n",
              "      let quickchartButtonEl =\n",
              "        document.querySelector('#df-02d694b1-abd1-4028-84d2-e1f2218ec997 button');\n",
              "      quickchartButtonEl.style.display =\n",
              "        google.colab.kernel.accessAllowed ? 'block' : 'none';\n",
              "    })();\n",
              "  </script>\n",
              "</div>\n",
              "\n",
              "    </div>\n",
              "  </div>\n"
            ],
            "application/vnd.google.colaboratory.intrinsic+json": {
              "type": "dataframe",
              "summary": "{\n  \"name\": \"dataset\",\n  \"rows\": 35,\n  \"fields\": [\n    {\n      \"column\": \"ID\",\n      \"properties\": {\n        \"dtype\": \"boolean\",\n        \"num_unique_values\": 1,\n        \"samples\": [\n          false\n        ],\n        \"semantic_type\": \"\",\n        \"description\": \"\"\n      }\n    },\n    {\n      \"column\": \"Experience_Years\",\n      \"properties\": {\n        \"dtype\": \"boolean\",\n        \"num_unique_values\": 1,\n        \"samples\": [\n          false\n        ],\n        \"semantic_type\": \"\",\n        \"description\": \"\"\n      }\n    },\n    {\n      \"column\": \"Age\",\n      \"properties\": {\n        \"dtype\": \"boolean\",\n        \"num_unique_values\": 1,\n        \"samples\": [\n          false\n        ],\n        \"semantic_type\": \"\",\n        \"description\": \"\"\n      }\n    },\n    {\n      \"column\": \"Gender\",\n      \"properties\": {\n        \"dtype\": \"boolean\",\n        \"num_unique_values\": 1,\n        \"samples\": [\n          false\n        ],\n        \"semantic_type\": \"\",\n        \"description\": \"\"\n      }\n    },\n    {\n      \"column\": \"Salary\",\n      \"properties\": {\n        \"dtype\": \"boolean\",\n        \"num_unique_values\": 1,\n        \"samples\": [\n          false\n        ],\n        \"semantic_type\": \"\",\n        \"description\": \"\"\n      }\n    }\n  ]\n}"
            }
          },
          "metadata": {},
          "execution_count": 6
        }
      ]
    },
    {
      "cell_type": "code",
      "source": [
        "dataset.isnull().sum()"
      ],
      "metadata": {
        "colab": {
          "base_uri": "https://localhost:8080/",
          "height": 241
        },
        "id": "s86dh_5hq7Xg",
        "outputId": "33d9d915-deb9-4dbd-c307-3a8e442bbfaf"
      },
      "execution_count": null,
      "outputs": [
        {
          "output_type": "execute_result",
          "data": {
            "text/plain": [
              "ID                  0\n",
              "Experience_Years    0\n",
              "Age                 0\n",
              "Gender              0\n",
              "Salary              0\n",
              "dtype: int64"
            ],
            "text/html": [
              "<div>\n",
              "<style scoped>\n",
              "    .dataframe tbody tr th:only-of-type {\n",
              "        vertical-align: middle;\n",
              "    }\n",
              "\n",
              "    .dataframe tbody tr th {\n",
              "        vertical-align: top;\n",
              "    }\n",
              "\n",
              "    .dataframe thead th {\n",
              "        text-align: right;\n",
              "    }\n",
              "</style>\n",
              "<table border=\"1\" class=\"dataframe\">\n",
              "  <thead>\n",
              "    <tr style=\"text-align: right;\">\n",
              "      <th></th>\n",
              "      <th>0</th>\n",
              "    </tr>\n",
              "  </thead>\n",
              "  <tbody>\n",
              "    <tr>\n",
              "      <th>ID</th>\n",
              "      <td>0</td>\n",
              "    </tr>\n",
              "    <tr>\n",
              "      <th>Experience_Years</th>\n",
              "      <td>0</td>\n",
              "    </tr>\n",
              "    <tr>\n",
              "      <th>Age</th>\n",
              "      <td>0</td>\n",
              "    </tr>\n",
              "    <tr>\n",
              "      <th>Gender</th>\n",
              "      <td>0</td>\n",
              "    </tr>\n",
              "    <tr>\n",
              "      <th>Salary</th>\n",
              "      <td>0</td>\n",
              "    </tr>\n",
              "  </tbody>\n",
              "</table>\n",
              "</div><br><label><b>dtype:</b> int64</label>"
            ]
          },
          "metadata": {},
          "execution_count": 7
        }
      ]
    },
    {
      "cell_type": "code",
      "source": [
        " #splitting the dataset into independent and dependent variables\n",
        " X = dataset[['ID','Experience_Years','Age','Gender']].values\n",
        " Y = dataset['Salary'].values\n",
        " print(X)\n"
      ],
      "metadata": {
        "colab": {
          "base_uri": "https://localhost:8080/"
        },
        "id": "nCpZVudxs674",
        "outputId": "16b27d44-c71b-4df3-a858-be298d7d85f5"
      },
      "execution_count": null,
      "outputs": [
        {
          "output_type": "stream",
          "name": "stdout",
          "text": [
            "[[1 5 28 'Female']\n",
            " [2 1 21 'Male']\n",
            " [3 3 23 'Female']\n",
            " [4 2 22 'Male']\n",
            " [5 1 17 'Male']\n",
            " [6 25 62 'Male']\n",
            " [7 19 54 'Female']\n",
            " [8 2 21 'Female']\n",
            " [9 10 36 'Female']\n",
            " [10 15 54 'Female']\n",
            " [11 4 26 'Female']\n",
            " [12 6 29 'Male']\n",
            " [13 14 39 'Male']\n",
            " [14 11 40 'Male']\n",
            " [15 2 23 'Male']\n",
            " [16 4 27 'Female']\n",
            " [17 10 34 'Female']\n",
            " [18 15 54 'Female']\n",
            " [19 2 21 'Male']\n",
            " [20 10 36 'Male']\n",
            " [21 15 54 'Male']\n",
            " [22 4 26 'Male']\n",
            " [23 5 29 'Male']\n",
            " [24 1 21 'Female']\n",
            " [25 4 23 'Female']\n",
            " [26 3 22 'Female']\n",
            " [27 1 18 'Male']\n",
            " [28 27 62 'Female']\n",
            " [29 19 54 'Female']\n",
            " [30 2 21 'Female']\n",
            " [31 10 34 'Male']\n",
            " [32 15 54 'Male']\n",
            " [33 20 55 'Female']\n",
            " [34 19 53 'Female']\n",
            " [35 16 49 'Male']]\n"
          ]
        }
      ]
    },
    {
      "cell_type": "code",
      "source": [
        "print(Y)"
      ],
      "metadata": {
        "colab": {
          "base_uri": "https://localhost:8080/"
        },
        "id": "4Z5jRxI5yjMC",
        "outputId": "a6deae52-1f5c-4282-b56b-e97d7397c119"
      },
      "execution_count": null,
      "outputs": [
        {
          "output_type": "stream",
          "name": "stdout",
          "text": [
            "[  250000    50000   170000    25000    10000  5001000   800000     9000\n",
            "    61500   650000   250000  1400000  6000050   220100     7500    87000\n",
            "   930000  7900000    15000   330000  6570000    25000  6845000     6000\n",
            "     8900    20000     3000 10000000  5000000     6100    80000   900000\n",
            "  1540000  9300000  7600000]\n"
          ]
        }
      ]
    },
    {
      "cell_type": "code",
      "source": [
        "#replacing the missing values in the Experience_years and Age column with the mean\n",
        "from sklearn.impute import SimpleImputer\n",
        "print(X[:,1:4])"
      ],
      "metadata": {
        "colab": {
          "base_uri": "https://localhost:8080/"
        },
        "id": "scPw_pRzz22a",
        "outputId": "93945995-b684-4309-9587-bff19fdd0e45"
      },
      "execution_count": null,
      "outputs": [
        {
          "output_type": "stream",
          "name": "stdout",
          "text": [
            "[[5 28 'Female']\n",
            " [1 21 'Male']\n",
            " [3 23 'Female']\n",
            " [2 22 'Male']\n",
            " [1 17 'Male']\n",
            " [25 62 'Male']\n",
            " [19 54 'Female']\n",
            " [2 21 'Female']\n",
            " [10 36 'Female']\n",
            " [15 54 'Female']\n",
            " [4 26 'Female']\n",
            " [6 29 'Male']\n",
            " [14 39 'Male']\n",
            " [11 40 'Male']\n",
            " [2 23 'Male']\n",
            " [4 27 'Female']\n",
            " [10 34 'Female']\n",
            " [15 54 'Female']\n",
            " [2 21 'Male']\n",
            " [10 36 'Male']\n",
            " [15 54 'Male']\n",
            " [4 26 'Male']\n",
            " [5 29 'Male']\n",
            " [1 21 'Female']\n",
            " [4 23 'Female']\n",
            " [3 22 'Female']\n",
            " [1 18 'Male']\n",
            " [27 62 'Female']\n",
            " [19 54 'Female']\n",
            " [2 21 'Female']\n",
            " [10 34 'Male']\n",
            " [15 54 'Male']\n",
            " [20 55 'Female']\n",
            " [19 53 'Female']\n",
            " [16 49 'Male']]\n"
          ]
        }
      ]
    },
    {
      "cell_type": "code",
      "source": [
        "imputer=SimpleImputer(missing_values=np.nan,strategy='mean')\n",
        "imputer.fit(X[:,1:3])\n",
        "X[:,1:3]=imputer.transform(X[:,1:3])\n",
        "print(X[:,1:3])"
      ],
      "metadata": {
        "colab": {
          "base_uri": "https://localhost:8080/"
        },
        "id": "MzRFD2Ft1sGr",
        "outputId": "10873e60-8f5f-4270-df63-579cddbb761d"
      },
      "execution_count": null,
      "outputs": [
        {
          "output_type": "stream",
          "name": "stdout",
          "text": [
            "[[5.0 28.0]\n",
            " [1.0 21.0]\n",
            " [3.0 23.0]\n",
            " [2.0 22.0]\n",
            " [1.0 17.0]\n",
            " [25.0 62.0]\n",
            " [19.0 54.0]\n",
            " [2.0 21.0]\n",
            " [10.0 36.0]\n",
            " [15.0 54.0]\n",
            " [4.0 26.0]\n",
            " [6.0 29.0]\n",
            " [14.0 39.0]\n",
            " [11.0 40.0]\n",
            " [2.0 23.0]\n",
            " [4.0 27.0]\n",
            " [10.0 34.0]\n",
            " [15.0 54.0]\n",
            " [2.0 21.0]\n",
            " [10.0 36.0]\n",
            " [15.0 54.0]\n",
            " [4.0 26.0]\n",
            " [5.0 29.0]\n",
            " [1.0 21.0]\n",
            " [4.0 23.0]\n",
            " [3.0 22.0]\n",
            " [1.0 18.0]\n",
            " [27.0 62.0]\n",
            " [19.0 54.0]\n",
            " [2.0 21.0]\n",
            " [10.0 34.0]\n",
            " [15.0 54.0]\n",
            " [20.0 55.0]\n",
            " [19.0 53.0]\n",
            " [16.0 49.0]]\n"
          ]
        }
      ]
    },
    {
      "cell_type": "code",
      "source": [
        "from sklearn.compose import ColumnTransformer\n",
        "from sklearn.preprocessing import OneHotEncoder\n",
        "ct=ColumnTransformer(transformers=[('encoder',OneHotEncoder(),[3])],remainder='passthrough')\n",
        "X=np.array(ct.fit_transform(X))\n",
        "print(X)"
      ],
      "metadata": {
        "colab": {
          "base_uri": "https://localhost:8080/"
        },
        "id": "ZU3o2F6E8tKz",
        "outputId": "d2ba9ed5-c809-44e1-fc42-ad86aab33c54"
      },
      "execution_count": null,
      "outputs": [
        {
          "output_type": "stream",
          "name": "stdout",
          "text": [
            "[[1.0 0.0 1 5.0 28.0]\n",
            " [0.0 1.0 2 1.0 21.0]\n",
            " [1.0 0.0 3 3.0 23.0]\n",
            " [0.0 1.0 4 2.0 22.0]\n",
            " [0.0 1.0 5 1.0 17.0]\n",
            " [0.0 1.0 6 25.0 62.0]\n",
            " [1.0 0.0 7 19.0 54.0]\n",
            " [1.0 0.0 8 2.0 21.0]\n",
            " [1.0 0.0 9 10.0 36.0]\n",
            " [1.0 0.0 10 15.0 54.0]\n",
            " [1.0 0.0 11 4.0 26.0]\n",
            " [0.0 1.0 12 6.0 29.0]\n",
            " [0.0 1.0 13 14.0 39.0]\n",
            " [0.0 1.0 14 11.0 40.0]\n",
            " [0.0 1.0 15 2.0 23.0]\n",
            " [1.0 0.0 16 4.0 27.0]\n",
            " [1.0 0.0 17 10.0 34.0]\n",
            " [1.0 0.0 18 15.0 54.0]\n",
            " [0.0 1.0 19 2.0 21.0]\n",
            " [0.0 1.0 20 10.0 36.0]\n",
            " [0.0 1.0 21 15.0 54.0]\n",
            " [0.0 1.0 22 4.0 26.0]\n",
            " [0.0 1.0 23 5.0 29.0]\n",
            " [1.0 0.0 24 1.0 21.0]\n",
            " [1.0 0.0 25 4.0 23.0]\n",
            " [1.0 0.0 26 3.0 22.0]\n",
            " [0.0 1.0 27 1.0 18.0]\n",
            " [1.0 0.0 28 27.0 62.0]\n",
            " [1.0 0.0 29 19.0 54.0]\n",
            " [1.0 0.0 30 2.0 21.0]\n",
            " [0.0 1.0 31 10.0 34.0]\n",
            " [0.0 1.0 32 15.0 54.0]\n",
            " [1.0 0.0 33 20.0 55.0]\n",
            " [1.0 0.0 34 19.0 53.0]\n",
            " [0.0 1.0 35 16.0 49.0]]\n"
          ]
        }
      ]
    },
    {
      "cell_type": "code",
      "source": [
        "print(Y)"
      ],
      "metadata": {
        "colab": {
          "base_uri": "https://localhost:8080/"
        },
        "id": "Z2spBA6P-APW",
        "outputId": "7576653b-82c0-4ad3-e293-e57666463b84"
      },
      "execution_count": null,
      "outputs": [
        {
          "output_type": "stream",
          "name": "stdout",
          "text": [
            "[  250000    50000   170000    25000    10000  5001000   800000     9000\n",
            "    61500   650000   250000  1400000  6000050   220100     7500    87000\n",
            "   930000  7900000    15000   330000  6570000    25000  6845000     6000\n",
            "     8900    20000     3000 10000000  5000000     6100    80000   900000\n",
            "  1540000  9300000  7600000]\n"
          ]
        }
      ]
    },
    {
      "cell_type": "code",
      "source": [
        "from sklearn.preprocessing import LabelEncoder\n",
        "le=LabelEncoder()\n",
        "Y=le.fit_transform(Y)\n",
        "print(Y)"
      ],
      "metadata": {
        "colab": {
          "base_uri": "https://localhost:8080/"
        },
        "id": "eDHslmZI-M-v",
        "outputId": "eabd3b64-6d20-4a0b-ab51-fb267bf5d9b6"
      },
      "execution_count": null,
      "outputs": [
        {
          "output_type": "stream",
          "name": "stdout",
          "text": [
            "[16 10 14  9  6 25 19  5 11 18 16 22 26 15  3 13 21 30  7 17 27  9 28  1\n",
            "  4  8  0 32 24  2 12 20 23 31 29]\n"
          ]
        }
      ]
    },
    {
      "cell_type": "code",
      "source": [
        "from sklearn.model_selection import train_test_split\n",
        "X_train,X_test,Y_train,Y_test=train_test_split(X,Y,test_size=0.2,random_state=1)\n",
        "print(X_train)"
      ],
      "metadata": {
        "colab": {
          "base_uri": "https://localhost:8080/"
        },
        "id": "YvL3n7vl_FDQ",
        "outputId": "27dac2a3-fb7a-4fe9-c33a-7d207c33ab58"
      },
      "execution_count": null,
      "outputs": [
        {
          "output_type": "stream",
          "name": "stdout",
          "text": [
            "[[1.0 0.0 28 27.0 62.0]\n",
            " [0.0 1.0 27 1.0 18.0]\n",
            " [1.0 0.0 33 20.0 55.0]\n",
            " [1.0 0.0 18 15.0 54.0]\n",
            " [1.0 0.0 25 4.0 23.0]\n",
            " [0.0 1.0 5 1.0 17.0]\n",
            " [1.0 0.0 3 3.0 23.0]\n",
            " [1.0 0.0 24 1.0 21.0]\n",
            " [1.0 0.0 26 3.0 22.0]\n",
            " [1.0 0.0 11 4.0 26.0]\n",
            " [0.0 1.0 32 15.0 54.0]\n",
            " [0.0 1.0 22 4.0 26.0]\n",
            " [0.0 1.0 31 10.0 34.0]\n",
            " [0.0 1.0 21 15.0 54.0]\n",
            " [0.0 1.0 19 2.0 21.0]\n",
            " [1.0 0.0 7 19.0 54.0]\n",
            " [0.0 1.0 14 11.0 40.0]\n",
            " [1.0 0.0 8 2.0 21.0]\n",
            " [0.0 1.0 35 16.0 49.0]\n",
            " [0.0 1.0 2 1.0 21.0]\n",
            " [1.0 0.0 17 10.0 34.0]\n",
            " [1.0 0.0 1 5.0 28.0]\n",
            " [1.0 0.0 16 4.0 27.0]\n",
            " [0.0 1.0 6 25.0 62.0]\n",
            " [0.0 1.0 12 6.0 29.0]\n",
            " [1.0 0.0 10 15.0 54.0]\n",
            " [1.0 0.0 9 10.0 36.0]\n",
            " [0.0 1.0 13 14.0 39.0]]\n"
          ]
        }
      ]
    },
    {
      "cell_type": "code",
      "source": [
        "print(X_test)"
      ],
      "metadata": {
        "colab": {
          "base_uri": "https://localhost:8080/"
        },
        "id": "vdq64gN8_SCu",
        "outputId": "7632705d-38d1-4bc0-f754-4a7852f0db92"
      },
      "execution_count": null,
      "outputs": [
        {
          "output_type": "stream",
          "name": "stdout",
          "text": [
            "[[0.0 1.0 15 2.0 23.0]\n",
            " [0.0 1.0 20 10.0 36.0]\n",
            " [0.0 1.0 4 2.0 22.0]\n",
            " [1.0 0.0 30 2.0 21.0]\n",
            " [1.0 0.0 34 19.0 53.0]\n",
            " [1.0 0.0 29 19.0 54.0]\n",
            " [0.0 1.0 23 5.0 29.0]]\n"
          ]
        }
      ]
    },
    {
      "cell_type": "code",
      "source": [
        "print(Y_train)"
      ],
      "metadata": {
        "colab": {
          "base_uri": "https://localhost:8080/"
        },
        "id": "s9ETQoLM_U05",
        "outputId": "7aa20fca-5a91-4fef-e133-da786bb3f425"
      },
      "execution_count": null,
      "outputs": [
        {
          "output_type": "stream",
          "name": "stdout",
          "text": [
            "[32  0 23 30  4  6 14  1  8 16 20  9 12 27  7 19 15  5 29 10 21 16 13 25\n",
            " 22 18 11 26]\n"
          ]
        }
      ]
    },
    {
      "cell_type": "code",
      "source": [
        "print(Y_test)"
      ],
      "metadata": {
        "colab": {
          "base_uri": "https://localhost:8080/"
        },
        "id": "gx5aT6GXBaE8",
        "outputId": "774b32bc-260a-42ef-ffe1-f120c1d981cc"
      },
      "execution_count": null,
      "outputs": [
        {
          "output_type": "stream",
          "name": "stdout",
          "text": [
            "[ 3 17  9  2 31 24 28]\n"
          ]
        }
      ]
    },
    {
      "cell_type": "code",
      "source": [
        "# Feature Scaling\n",
        "from sklearn.preprocessing import StandardScaler\n",
        "sc = StandardScaler()\n",
        "X_train[:, 4:] = sc.fit_transform(X_train[:, 4:])\n",
        "print(X_train)"
      ],
      "metadata": {
        "colab": {
          "base_uri": "https://localhost:8080/"
        },
        "id": "b4TJisJzB9PM",
        "outputId": "65e1f902-045f-42b7-9397-1828863e999a"
      },
      "execution_count": null,
      "outputs": [
        {
          "output_type": "stream",
          "name": "stdout",
          "text": [
            "[[1.0 0.0 28 27.0 1.7788801610092668]\n",
            " [0.0 1.0 27 1.0 -1.2150820771921218]\n",
            " [1.0 0.0 33 20.0 1.3025679867499549]\n",
            " [1.0 0.0 18 15.0 1.2345233904271962]\n",
            " [1.0 0.0 25 4.0 -0.8748590955783276]\n",
            " [0.0 1.0 5 1.0 -1.2831266735148805]\n",
            " [1.0 0.0 3 3.0 -0.8748590955783276]\n",
            " [1.0 0.0 24 1.0 -1.0109482882238452]\n",
            " [1.0 0.0 26 3.0 -0.9429036919010865]\n",
            " [1.0 0.0 11 4.0 -0.6707253066100511]\n",
            " [0.0 1.0 32 15.0 1.2345233904271962]\n",
            " [0.0 1.0 22 4.0 -0.6707253066100511]\n",
            " [0.0 1.0 31 10.0 -0.12636853602798048]\n",
            " [0.0 1.0 21 15.0 1.2345233904271962]\n",
            " [0.0 1.0 19 2.0 -1.0109482882238452]\n",
            " [1.0 0.0 7 19.0 1.2345233904271962]\n",
            " [0.0 1.0 14 11.0 0.2818990419085725]\n",
            " [1.0 0.0 8 2.0 -1.0109482882238452]\n",
            " [0.0 1.0 35 16.0 0.894300408813402]\n",
            " [0.0 1.0 2 1.0 -1.0109482882238452]\n",
            " [1.0 0.0 17 10.0 -0.12636853602798048]\n",
            " [1.0 0.0 1 5.0 -0.5346361139645335]\n",
            " [1.0 0.0 16 4.0 -0.6026807102872923]\n",
            " [0.0 1.0 6 25.0 1.7788801610092668]\n",
            " [0.0 1.0 12 6.0 -0.46659151764177464]\n",
            " [1.0 0.0 10 15.0 1.2345233904271962]\n",
            " [1.0 0.0 9 10.0 0.009720656617537182]\n",
            " [0.0 1.0 13 14.0 0.21385444558581368]]\n"
          ]
        }
      ]
    },
    {
      "cell_type": "code",
      "source": [
        "print(X_test)\n"
      ],
      "metadata": {
        "colab": {
          "base_uri": "https://localhost:8080/"
        },
        "id": "CiXmyTyyCPJZ",
        "outputId": "be8ea36d-414f-4e94-f7be-d6cc7701b6d6"
      },
      "execution_count": null,
      "outputs": [
        {
          "output_type": "stream",
          "name": "stdout",
          "text": [
            "[[0.0 1.0 15 2.0 23.0]\n",
            " [0.0 1.0 20 10.0 36.0]\n",
            " [0.0 1.0 4 2.0 22.0]\n",
            " [1.0 0.0 30 2.0 21.0]\n",
            " [1.0 0.0 34 19.0 53.0]\n",
            " [1.0 0.0 29 19.0 54.0]\n",
            " [0.0 1.0 23 5.0 29.0]]\n"
          ]
        }
      ]
    },
    {
      "cell_type": "code",
      "source": [
        "X_test[:, 4:] = sc.transform(X_test[:, 4:])\n",
        "print(X_test)"
      ],
      "metadata": {
        "colab": {
          "base_uri": "https://localhost:8080/"
        },
        "id": "Zlim5XGqCTyd",
        "outputId": "955e605d-58ed-4f24-dd42-409d4415dbef"
      },
      "execution_count": null,
      "outputs": [
        {
          "output_type": "stream",
          "name": "stdout",
          "text": [
            "[[0.0 1.0 15 2.0 -0.8748590955783276]\n",
            " [0.0 1.0 20 10.0 0.009720656617537182]\n",
            " [0.0 1.0 4 2.0 -0.9429036919010865]\n",
            " [1.0 0.0 30 2.0 -1.0109482882238452]\n",
            " [1.0 0.0 34 19.0 1.1664787941044372]\n",
            " [1.0 0.0 29 19.0 1.2345233904271962]\n",
            " [0.0 1.0 23 5.0 -0.46659151764177464]]\n"
          ]
        }
      ]
    },
    {
      "cell_type": "code",
      "source": [
        "#box plot for this dataset\n",
        "\n",
        "import matplotlib.pyplot as plt\n",
        "import seaborn as sns\n",
        "\n",
        "# Assuming 'dataset' is your DataFrame and it contains a column named 'Salary'\n",
        "plt.figure(figsize=(8, 6))\n",
        "sns.boxplot(x=dataset['Salary'])\n",
        "plt.title('Box Plot of Salary')\n",
        "plt.show()\n"
      ],
      "metadata": {
        "colab": {
          "base_uri": "https://localhost:8080/",
          "height": 564
        },
        "id": "n9PF0jceDyWA",
        "outputId": "116b2648-b2e9-4fae-d921-32d846f4eb9a"
      },
      "execution_count": null,
      "outputs": [
        {
          "output_type": "display_data",
          "data": {
            "text/plain": [
              "<Figure size 800x600 with 1 Axes>"
            ],
            "image/png": "[encoded data removed]"
          },
          "metadata": {}
        }
      ]
    },
    {
      "cell_type": "code",
      "source": [
        "dataset.hist(figsize=(20,30))"
      ],
      "metadata": {
        "colab": {
          "base_uri": "https://localhost:8080/",
          "height": 1000
        },
        "id": "Yt0iHh2zE0zj",
        "outputId": "6ff21d26-ba14-41f5-da6b-e1cb68d966bf"
      },
      "execution_count": null,
      "outputs": [
        {
          "output_type": "execute_result",
          "data": {
            "text/plain": [
              "array([[<Axes: title={'center': 'ID'}>,\n",
              "        <Axes: title={'center': 'Experience_Years'}>],\n",
              "       [<Axes: title={'center': 'Age'}>,\n",
              "        <Axes: title={'center': 'Salary'}>]], dtype=object)"
            ]
          },
          "metadata": {},
          "execution_count": 22
        },
        {
          "output_type": "display_data",
          "data": {
            "text/plain": [
              "<Figure size 2000x3000 with 4 Axes>"
            ],
            "image/png": "[encoded data removed]"
          },
          "metadata": {}
        }
      ]
    },
    {
      "cell_type": "code",
      "source": [
        "sns.countplot(dataset['Salary'])\n"
      ],
      "metadata": {
        "colab": {
          "base_uri": "https://localhost:8080/",
          "height": 447
        },
        "id": "yQZfxtGtFFHr",
        "outputId": "b15fc7f2-7d06-476e-a676-bfb137782567"
      },
      "execution_count": null,
      "outputs": [
        {
          "output_type": "execute_result",
          "data": {
            "text/plain": [
              "<Axes: ylabel='count'>"
            ]
          },
          "metadata": {},
          "execution_count": 23
        },
        {
          "output_type": "display_data",
          "data": {
            "text/plain": [
              "<Figure size 640x480 with 1 Axes>"
            ],
            "image/png": "[encoded data removed]"
          },
          "metadata": {}
        }
      ]
    },
    {
      "cell_type": "code",
      "source": [
        "sns.pairplot(dataset)"
      ],
      "metadata": {
        "colab": {
          "base_uri": "https://localhost:8080/",
          "height": 1000
        },
        "id": "t9W4XzEpGIoo",
        "outputId": "9b5998ca-cd61-4328-b9e7-543df8e45c86"
      },
      "execution_count": null,
      "outputs": [
        {
          "output_type": "execute_result",
          "data": {
            "text/plain": [
              "<seaborn.axisgrid.PairGrid at 0x7979750a2890>"
            ]
          },
          "metadata": {},
          "execution_count": 24
        },
        {
          "output_type": "display_data",
          "data": {
            "text/plain": [
              "<Figure size 1000x1000 with 20 Axes>"
            ],
            "image/png": "[encoded data removed]"
          },
          "metadata": {}
        }
      ]
    },
    {
      "cell_type": "code",
      "source": [
        "corr = dataset.select_dtypes(include=np.number).corr()\n",
        "print(corr)"
      ],
      "metadata": {
        "colab": {
          "base_uri": "https://localhost:8080/"
        },
        "id": "VFJC_JZNGal9",
        "outputId": "4f5d9389-3da7-487e-b6af-8dcf8f8dc9e4"
      },
      "execution_count": null,
      "outputs": [
        {
          "output_type": "stream",
          "name": "stdout",
          "text": [
            "                        ID  Experience_Years       Age    Salary\n",
            "ID                1.000000          0.291098  0.282452  0.362092\n",
            "Experience_Years  0.291098          1.000000  0.973708  0.685600\n",
            "Age               0.282452          0.973708  1.000000  0.668444\n",
            "Salary            0.362092          0.685600  0.668444  1.000000\n"
          ]
        }
      ]
    },
    {
      "cell_type": "code",
      "source": [
        "# Convert 'Gender' to numerical representation using one-hot encoding\n",
        "dataset = pd.get_dummies(dataset, columns=['Gender'], prefix=['Gender'])\n",
        "\n",
        "# Now calculate the correlation matrix\n",
        "corr = dataset.corr()\n",
        "print(corr)"
      ],
      "metadata": {
        "colab": {
          "base_uri": "https://localhost:8080/"
        },
        "id": "08eOEPNvGNFr",
        "outputId": "8652544f-29b8-4872-cd03-ac108da853c5"
      },
      "execution_count": null,
      "outputs": [
        {
          "output_type": "stream",
          "name": "stdout",
          "text": [
            "                        ID  Experience_Years       Age    Salary  \\\n",
            "ID                1.000000          0.291098  0.282452  0.362092   \n",
            "Experience_Years  0.291098          1.000000  0.973708  0.685600   \n",
            "Age               0.282452          0.973708  1.000000  0.668444   \n",
            "Salary            0.362092          0.685600  0.668444  1.000000   \n",
            "Gender_Female     0.028301          0.125939  0.115883 -0.001393   \n",
            "Gender_Male      -0.028301         -0.125939 -0.115883  0.001393   \n",
            "\n",
            "                  Gender_Female  Gender_Male  \n",
            "ID                     0.028301    -0.028301  \n",
            "Experience_Years       0.125939    -0.125939  \n",
            "Age                    0.115883    -0.115883  \n",
            "Salary                -0.001393     0.001393  \n",
            "Gender_Female          1.000000    -1.000000  \n",
            "Gender_Male           -1.000000     1.000000  \n"
          ]
        }
      ]
    },
    {
      "cell_type": "code",
      "source": [
        "sns.heatmap(corr,annot=True)"
      ],
      "metadata": {
        "colab": {
          "base_uri": "https://localhost:8080/",
          "height": 559
        },
        "id": "OxqDAvEWGx9g",
        "outputId": "94a15a1d-6d75-4234-bc27-4e673d51e5c5"
      },
      "execution_count": null,
      "outputs": [
        {
          "output_type": "execute_result",
          "data": {
            "text/plain": [
              "<Axes: >"
            ]
          },
          "metadata": {},
          "execution_count": 27
        },
        {
          "output_type": "display_data",
          "data": {
            "text/plain": [
              "<Figure size 640x480 with 2 Axes>"
            ],
            "image/png": "[encoded data removed]"
          },
          "metadata": {}
        }
      ]
    }
  ]
}