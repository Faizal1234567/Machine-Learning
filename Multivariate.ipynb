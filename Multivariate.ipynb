{
  "nbformat": 4,
  "nbformat_minor": 0,
  "metadata": {
    "colab": {
      "provenance": [],
      "include_colab_link": true
    },
    "kernelspec": {
      "name": "python3",
      "display_name": "Python 3"
    },
    "language_info": {
      "name": "python"
    }
  },
  "cells": [
    {
      "cell_type": "markdown",
      "metadata": {
        "id": "view-in-github",
        "colab_type": "text"
      },
      "source": [
        "<a href=\"https://colab.research.google.com/github/Faizal1234567/Machine-Learning/blob/main/Multivariate.ipynb\" target=\"_parent\"><img src=\"https://colab.research.google.com/assets/colab-badge.svg\" alt=\"Open In Colab\"/></a>"
      ]
    },
    {
      "cell_type": "code",
      "source": [
        "# multivariate using real time dataset\n",
        "import matplotlib.pyplot as plt\n",
        "import numpy as np\n",
        "import pandas as pd\n",
        "from sklearn.model_selection import train_test_split\n",
        "from sklearn.preprocessing import StandardScaler, LabelEncoder"
      ],
      "metadata": {
        "id": "ah4w-ZhybASx"
      },
      "execution_count": null,
      "outputs": []
    },
    {
      "cell_type": "code",
      "source": [
        "student_lifestyle = pd.read_csv('/content/student_lifestyle_dataset.csv')\n",
        "print(student_lifestyle.columns)"
      ],
      "metadata": {
        "colab": {
          "base_uri": "https://localhost:8080/"
        },
        "id": "3Bw2UrDx7buK",
        "outputId": "aee8970a-fcbd-4ef7-e247-97f2447e22f2"
      },
      "execution_count": null,
      "outputs": [
        {
          "output_type": "stream",
          "name": "stdout",
          "text": [
            "Index(['Student_ID', 'Study_Hours_Per_Day', 'Extracurricular_Hours_Per_Day',\n",
            "       'Sleep_Hours_Per_Day', 'Social_Hours_Per_Day',\n",
            "       'Physical_Activity_Hours_Per_Day', 'GPA', 'Stress_Level'],\n",
            "      dtype='object')\n"
          ]
        }
      ]
    },
    {
      "cell_type": "code",
      "source": [
        "student_lifestyle.head()"
      ],
      "metadata": {
        "colab": {
          "base_uri": "https://localhost:8080/",
          "height": 206
        },
        "id": "1PiGrmPRE4XH",
        "outputId": "48a4793a-2cd6-4e45-f7ce-ebfff40d5acb"
      },
      "execution_count": null,
      "outputs": [
        {
          "output_type": "execute_result",
          "data": {
            "text/plain": [
              "   Student_ID  Study_Hours_Per_Day  Extracurricular_Hours_Per_Day  \\\n",
              "0           1                  6.9                            3.8   \n",
              "1           2                  5.3                            3.5   \n",
              "2           3                  5.1                            3.9   \n",
              "3           4                  6.5                            2.1   \n",
              "4           5                  8.1                            0.6   \n",
              "\n",
              "   Sleep_Hours_Per_Day  Social_Hours_Per_Day  Physical_Activity_Hours_Per_Day  \\\n",
              "0                  8.7                   2.8                              1.8   \n",
              "1                  8.0                   4.2                              3.0   \n",
              "2                  9.2                   1.2                              4.6   \n",
              "3                  7.2                   1.7                              6.5   \n",
              "4                  6.5                   2.2                              6.6   \n",
              "\n",
              "    GPA Stress_Level  \n",
              "0  2.99     Moderate  \n",
              "1  2.75          Low  \n",
              "2  2.67          Low  \n",
              "3  2.88     Moderate  \n",
              "4  3.51         High  "
            ],
            "text/html": [
              "\n",
              "  <div id=\"df-cafa2918-b769-4c5b-baac-36970e263f7a\" class=\"colab-df-container\">\n",
              "    <div>\n",
              "<style scoped>\n",
              "    .dataframe tbody tr th:only-of-type {\n",
              "        vertical-align: middle;\n",
              "    }\n",
              "\n",
              "    .dataframe tbody tr th {\n",
              "        vertical-align: top;\n",
              "    }\n",
              "\n",
              "    .dataframe thead th {\n",
              "        text-align: right;\n",
              "    }\n",
              "</style>\n",
              "<table border=\"1\" class=\"dataframe\">\n",
              "  <thead>\n",
              "    <tr style=\"text-align: right;\">\n",
              "      <th></th>\n",
              "      <th>Student_ID</th>\n",
              "      <th>Study_Hours_Per_Day</th>\n",
              "      <th>Extracurricular_Hours_Per_Day</th>\n",
              "      <th>Sleep_Hours_Per_Day</th>\n",
              "      <th>Social_Hours_Per_Day</th>\n",
              "      <th>Physical_Activity_Hours_Per_Day</th>\n",
              "      <th>GPA</th>\n",
              "      <th>Stress_Level</th>\n",
              "    </tr>\n",
              "  </thead>\n",
              "  <tbody>\n",
              "    <tr>\n",
              "      <th>0</th>\n",
              "      <td>1</td>\n",
              "      <td>6.9</td>\n",
              "      <td>3.8</td>\n",
              "      <td>8.7</td>\n",
              "      <td>2.8</td>\n",
              "      <td>1.8</td>\n",
              "      <td>2.99</td>\n",
              "      <td>Moderate</td>\n",
              "    </tr>\n",
              "    <tr>\n",
              "      <th>1</th>\n",
              "      <td>2</td>\n",
              "      <td>5.3</td>\n",
              "      <td>3.5</td>\n",
              "      <td>8.0</td>\n",
              "      <td>4.2</td>\n",
              "      <td>3.0</td>\n",
              "      <td>2.75</td>\n",
              "      <td>Low</td>\n",
              "    </tr>\n",
              "    <tr>\n",
              "      <th>2</th>\n",
              "      <td>3</td>\n",
              "      <td>5.1</td>\n",
              "      <td>3.9</td>\n",
              "      <td>9.2</td>\n",
              "      <td>1.2</td>\n",
              "      <td>4.6</td>\n",
              "      <td>2.67</td>\n",
              "      <td>Low</td>\n",
              "    </tr>\n",
              "    <tr>\n",
              "      <th>3</th>\n",
              "      <td>4</td>\n",
              "      <td>6.5</td>\n",
              "      <td>2.1</td>\n",
              "      <td>7.2</td>\n",
              "      <td>1.7</td>\n",
              "      <td>6.5</td>\n",
              "      <td>2.88</td>\n",
              "      <td>Moderate</td>\n",
              "    </tr>\n",
              "    <tr>\n",
              "      <th>4</th>\n",
              "      <td>5</td>\n",
              "      <td>8.1</td>\n",
              "      <td>0.6</td>\n",
              "      <td>6.5</td>\n",
              "      <td>2.2</td>\n",
              "      <td>6.6</td>\n",
              "      <td>3.51</td>\n",
              "      <td>High</td>\n",
              "    </tr>\n",
              "  </tbody>\n",
              "</table>\n",
              "</div>\n",
              "    <div class=\"colab-df-buttons\">\n",
              "\n",
              "  <div class=\"colab-df-container\">\n",
              "    <button class=\"colab-df-convert\" onclick=\"convertToInteractive('df-cafa2918-b769-4c5b-baac-36970e263f7a')\"\n",
              "            title=\"Convert this dataframe to an interactive table.\"\n",
              "            style=\"display:none;\">\n",
              "\n",
              "  <svg xmlns=\"http://www.w3.org/2000/svg\" height=\"24px\" viewBox=\"0 -960 960 960\">\n",
              "    <path d=\"M120-120v-720h720v720H120Zm60-500h600v-160H180v160Zm220 220h160v-160H400v160Zm0 220h160v-160H400v160ZM180-400h160v-160H180v160Zm440 0h160v-160H620v160ZM180-180h160v-160H180v160Zm440 0h160v-160H620v160Z\"/>\n",
              "  </svg>\n",
              "    </button>\n",
              "\n",
              "  <style>\n",
              "    .colab-df-container {\n",
              "      display:flex;\n",
              "      gap: 12px;\n",
              "    }\n",
              "\n",
              "    .colab-df-convert {\n",
              "      background-color: #E8F0FE;\n",
              "      border: none;\n",
              "      border-radius: 50%;\n",
              "      cursor: pointer;\n",
              "      display: none;\n",
              "      fill: #1967D2;\n",
              "      height: 32px;\n",
              "      padding: 0 0 0 0;\n",
              "      width: 32px;\n",
              "    }\n",
              "\n",
              "    .colab-df-convert:hover {\n",
              "      background-color: #E2EBFA;\n",
              "      box-shadow: 0px 1px 2px rgba(60, 64, 67, 0.3), 0px 1px 3px 1px rgba(60, 64, 67, 0.15);\n",
              "      fill: #174EA6;\n",
              "    }\n",
              "\n",
              "    .colab-df-buttons div {\n",
              "      margin-bottom: 4px;\n",
              "    }\n",
              "\n",
              "    [theme=dark] .colab-df-convert {\n",
              "      background-color: #3B4455;\n",
              "      fill: #D2E3FC;\n",
              "    }\n",
              "\n",
              "    [theme=dark] .colab-df-convert:hover {\n",
              "      background-color: #434B5C;\n",
              "      box-shadow: 0px 1px 3px 1px rgba(0, 0, 0, 0.15);\n",
              "      filter: drop-shadow(0px 1px 2px rgba(0, 0, 0, 0.3));\n",
              "      fill: #FFFFFF;\n",
              "    }\n",
              "  </style>\n",
              "\n",
              "    <script>\n",
              "      const buttonEl =\n",
              "        document.querySelector('#df-cafa2918-b769-4c5b-baac-36970e263f7a button.colab-df-convert');\n",
              "      buttonEl.style.display =\n",
              "        google.colab.kernel.accessAllowed ? 'block' : 'none';\n",
              "\n",
              "      async function convertToInteractive(key) {\n",
              "        const element = document.querySelector('#df-cafa2918-b769-4c5b-baac-36970e263f7a');\n",
              "        const dataTable =\n",
              "          await google.colab.kernel.invokeFunction('convertToInteractive',\n",
              "                                                    [key], {});\n",
              "        if (!dataTable) return;\n",
              "\n",
              "        const docLinkHtml = 'Like what you see? Visit the ' +\n",
              "          '<a target=\"_blank\" href=https://colab.research.google.com/notebooks/data_table.ipynb>data table notebook</a>'\n",
              "          + ' to learn more about interactive tables.';\n",
              "        element.innerHTML = '';\n",
              "        dataTable['output_type'] = 'display_data';\n",
              "        await google.colab.output.renderOutput(dataTable, element);\n",
              "        const docLink = document.createElement('div');\n",
              "        docLink.innerHTML = docLinkHtml;\n",
              "        element.appendChild(docLink);\n",
              "      }\n",
              "    </script>\n",
              "  </div>\n",
              "\n",
              "\n",
              "<div id=\"df-62353a45-293b-4f6d-be03-7e6cac98832c\">\n",
              "  <button class=\"colab-df-quickchart\" onclick=\"quickchart('df-62353a45-293b-4f6d-be03-7e6cac98832c')\"\n",
              "            title=\"Suggest charts\"\n",
              "            style=\"display:none;\">\n",
              "\n",
              "<svg xmlns=\"http://www.w3.org/2000/svg\" height=\"24px\"viewBox=\"0 0 24 24\"\n",
              "     width=\"24px\">\n",
              "    <g>\n",
              "        <path d=\"M19 3H5c-1.1 0-2 .9-2 2v14c0 1.1.9 2 2 2h14c1.1 0 2-.9 2-2V5c0-1.1-.9-2-2-2zM9 17H7v-7h2v7zm4 0h-2V7h2v10zm4 0h-2v-4h2v4z\"/>\n",
              "    </g>\n",
              "</svg>\n",
              "  </button>\n",
              "\n",
              "<style>\n",
              "  .colab-df-quickchart {\n",
              "      --bg-color: #E8F0FE;\n",
              "      --fill-color: #1967D2;\n",
              "      --hover-bg-color: #E2EBFA;\n",
              "      --hover-fill-color: #174EA6;\n",
              "      --disabled-fill-color: #AAA;\n",
              "      --disabled-bg-color: #DDD;\n",
              "  }\n",
              "\n",
              "  [theme=dark] .colab-df-quickchart {\n",
              "      --bg-color: #3B4455;\n",
              "      --fill-color: #D2E3FC;\n",
              "      --hover-bg-color: #434B5C;\n",
              "      --hover-fill-color: #FFFFFF;\n",
              "      --disabled-bg-color: #3B4455;\n",
              "      --disabled-fill-color: #666;\n",
              "  }\n",
              "\n",
              "  .colab-df-quickchart {\n",
              "    background-color: var(--bg-color);\n",
              "    border: none;\n",
              "    border-radius: 50%;\n",
              "    cursor: pointer;\n",
              "    display: none;\n",
              "    fill: var(--fill-color);\n",
              "    height: 32px;\n",
              "    padding: 0;\n",
              "    width: 32px;\n",
              "  }\n",
              "\n",
              "  .colab-df-quickchart:hover {\n",
              "    background-color: var(--hover-bg-color);\n",
              "    box-shadow: 0 1px 2px rgba(60, 64, 67, 0.3), 0 1px 3px 1px rgba(60, 64, 67, 0.15);\n",
              "    fill: var(--button-hover-fill-color);\n",
              "  }\n",
              "\n",
              "  .colab-df-quickchart-complete:disabled,\n",
              "  .colab-df-quickchart-complete:disabled:hover {\n",
              "    background-color: var(--disabled-bg-color);\n",
              "    fill: var(--disabled-fill-color);\n",
              "    box-shadow: none;\n",
              "  }\n",
              "\n",
              "  .colab-df-spinner {\n",
              "    border: 2px solid var(--fill-color);\n",
              "    border-color: transparent;\n",
              "    border-bottom-color: var(--fill-color);\n",
              "    animation:\n",
              "      spin 1s steps(1) infinite;\n",
              "  }\n",
              "\n",
              "  @keyframes spin {\n",
              "    0% {\n",
              "      border-color: transparent;\n",
              "      border-bottom-color: var(--fill-color);\n",
              "      border-left-color: var(--fill-color);\n",
              "    }\n",
              "    20% {\n",
              "      border-color: transparent;\n",
              "      border-left-color: var(--fill-color);\n",
              "      border-top-color: var(--fill-color);\n",
              "    }\n",
              "    30% {\n",
              "      border-color: transparent;\n",
              "      border-left-color: var(--fill-color);\n",
              "      border-top-color: var(--fill-color);\n",
              "      border-right-color: var(--fill-color);\n",
              "    }\n",
              "    40% {\n",
              "      border-color: transparent;\n",
              "      border-right-color: var(--fill-color);\n",
              "      border-top-color: var(--fill-color);\n",
              "    }\n",
              "    60% {\n",
              "      border-color: transparent;\n",
              "      border-right-color: var(--fill-color);\n",
              "    }\n",
              "    80% {\n",
              "      border-color: transparent;\n",
              "      border-right-color: var(--fill-color);\n",
              "      border-bottom-color: var(--fill-color);\n",
              "    }\n",
              "    90% {\n",
              "      border-color: transparent;\n",
              "      border-bottom-color: var(--fill-color);\n",
              "    }\n",
              "  }\n",
              "</style>\n",
              "\n",
              "  <script>\n",
              "    async function quickchart(key) {\n",
              "      const quickchartButtonEl =\n",
              "        document.querySelector('#' + key + ' button');\n",
              "      quickchartButtonEl.disabled = true;  // To prevent multiple clicks.\n",
              "      quickchartButtonEl.classList.add('colab-df-spinner');\n",
              "      try {\n",
              "        const charts = await google.colab.kernel.invokeFunction(\n",
              "            'suggestCharts', [key], {});\n",
              "      } catch (error) {\n",
              "        console.error('Error during call to suggestCharts:', error);\n",
              "      }\n",
              "      quickchartButtonEl.classList.remove('colab-df-spinner');\n",
              "      quickchartButtonEl.classList.add('colab-df-quickchart-complete');\n",
              "    }\n",
              "    (() => {\n",
              "      let quickchartButtonEl =\n",
              "        document.querySelector('#df-62353a45-293b-4f6d-be03-7e6cac98832c button');\n",
              "      quickchartButtonEl.style.display =\n",
              "        google.colab.kernel.accessAllowed ? 'block' : 'none';\n",
              "    })();\n",
              "  </script>\n",
              "</div>\n",
              "\n",
              "    </div>\n",
              "  </div>\n"
            ],
            "application/vnd.google.colaboratory.intrinsic+json": {
              "type": "dataframe",
              "variable_name": "student_lifestyle",
              "summary": "{\n  \"name\": \"student_lifestyle\",\n  \"rows\": 2000,\n  \"fields\": [\n    {\n      \"column\": \"Student_ID\",\n      \"properties\": {\n        \"dtype\": \"number\",\n        \"std\": 577,\n        \"min\": 1,\n        \"max\": 2000,\n        \"num_unique_values\": 2000,\n        \"samples\": [\n          1861,\n          354,\n          1334\n        ],\n        \"semantic_type\": \"\",\n        \"description\": \"\"\n      }\n    },\n    {\n      \"column\": \"Study_Hours_Per_Day\",\n      \"properties\": {\n        \"dtype\": \"number\",\n        \"std\": 1.423888369586789,\n        \"min\": 5.0,\n        \"max\": 10.0,\n        \"num_unique_values\": 51,\n        \"samples\": [\n          10.0,\n          8.5,\n          7.2\n        ],\n        \"semantic_type\": \"\",\n        \"description\": \"\"\n      }\n    },\n    {\n      \"column\": \"Extracurricular_Hours_Per_Day\",\n      \"properties\": {\n        \"dtype\": \"number\",\n        \"std\": 1.1558546578160225,\n        \"min\": 0.0,\n        \"max\": 4.0,\n        \"num_unique_values\": 41,\n        \"samples\": [\n          1.5,\n          1.7,\n          1.1\n        ],\n        \"semantic_type\": \"\",\n        \"description\": \"\"\n      }\n    },\n    {\n      \"column\": \"Sleep_Hours_Per_Day\",\n      \"properties\": {\n        \"dtype\": \"number\",\n        \"std\": 1.4609485353055407,\n        \"min\": 5.0,\n        \"max\": 10.0,\n        \"num_unique_values\": 51,\n        \"samples\": [\n          9.9,\n          10.0,\n          5.9\n        ],\n        \"semantic_type\": \"\",\n        \"description\": \"\"\n      }\n    },\n    {\n      \"column\": \"Social_Hours_Per_Day\",\n      \"properties\": {\n        \"dtype\": \"number\",\n        \"std\": 1.6885140915665202,\n        \"min\": 0.0,\n        \"max\": 6.0,\n        \"num_unique_values\": 61,\n        \"samples\": [\n          2.8,\n          0.3,\n          5.3\n        ],\n        \"semantic_type\": \"\",\n        \"description\": \"\"\n      }\n    },\n    {\n      \"column\": \"Physical_Activity_Hours_Per_Day\",\n      \"properties\": {\n        \"dtype\": \"number\",\n        \"std\": 2.5141100780877554,\n        \"min\": 0.0,\n        \"max\": 13.0,\n        \"num_unique_values\": 118,\n        \"samples\": [\n          0.3,\n          1.4,\n          6.6\n        ],\n        \"semantic_type\": \"\",\n        \"description\": \"\"\n      }\n    },\n    {\n      \"column\": \"GPA\",\n      \"properties\": {\n        \"dtype\": \"number\",\n        \"std\": 0.2986735363916102,\n        \"min\": 2.24,\n        \"max\": 4.0,\n        \"num_unique_values\": 158,\n        \"samples\": [\n          2.74,\n          4.0,\n          3.79\n        ],\n        \"semantic_type\": \"\",\n        \"description\": \"\"\n      }\n    },\n    {\n      \"column\": \"Stress_Level\",\n      \"properties\": {\n        \"dtype\": \"category\",\n        \"num_unique_values\": 3,\n        \"samples\": [\n          \"Moderate\",\n          \"Low\",\n          \"High\"\n        ],\n        \"semantic_type\": \"\",\n        \"description\": \"\"\n      }\n    }\n  ]\n}"
            }
          },
          "metadata": {},
          "execution_count": 3
        }
      ]
    },
    {
      "cell_type": "code",
      "source": [
        "student_lifestyle.describe()"
      ],
      "metadata": {
        "colab": {
          "base_uri": "https://localhost:8080/",
          "height": 300
        },
        "id": "H_SRTYyCF0Hv",
        "outputId": "cfd69780-17c0-4ef8-a36d-966ce73ec843"
      },
      "execution_count": null,
      "outputs": [
        {
          "output_type": "execute_result",
          "data": {
            "text/plain": [
              "        Student_ID  Study_Hours_Per_Day  Extracurricular_Hours_Per_Day  \\\n",
              "count  2000.000000          2000.000000                    2000.000000   \n",
              "mean   1000.500000             7.475800                       1.990100   \n",
              "std     577.494589             1.423888                       1.155855   \n",
              "min       1.000000             5.000000                       0.000000   \n",
              "25%     500.750000             6.300000                       1.000000   \n",
              "50%    1000.500000             7.400000                       2.000000   \n",
              "75%    1500.250000             8.700000                       3.000000   \n",
              "max    2000.000000            10.000000                       4.000000   \n",
              "\n",
              "       Sleep_Hours_Per_Day  Social_Hours_Per_Day  \\\n",
              "count          2000.000000           2000.000000   \n",
              "mean              7.501250              2.704550   \n",
              "std               1.460949              1.688514   \n",
              "min               5.000000              0.000000   \n",
              "25%               6.200000              1.200000   \n",
              "50%               7.500000              2.600000   \n",
              "75%               8.800000              4.100000   \n",
              "max              10.000000              6.000000   \n",
              "\n",
              "       Physical_Activity_Hours_Per_Day          GPA  \n",
              "count                       2000.00000  2000.000000  \n",
              "mean                           4.32830     3.115960  \n",
              "std                            2.51411     0.298674  \n",
              "min                            0.00000     2.240000  \n",
              "25%                            2.40000     2.900000  \n",
              "50%                            4.10000     3.110000  \n",
              "75%                            6.10000     3.330000  \n",
              "max                           13.00000     4.000000  "
            ],
            "text/html": [
              "\n",
              "  <div id=\"df-77ba743b-4b3a-4fb9-a57d-7da50c4b04d8\" class=\"colab-df-container\">\n",
              "    <div>\n",
              "<style scoped>\n",
              "    .dataframe tbody tr th:only-of-type {\n",
              "        vertical-align: middle;\n",
              "    }\n",
              "\n",
              "    .dataframe tbody tr th {\n",
              "        vertical-align: top;\n",
              "    }\n",
              "\n",
              "    .dataframe thead th {\n",
              "        text-align: right;\n",
              "    }\n",
              "</style>\n",
              "<table border=\"1\" class=\"dataframe\">\n",
              "  <thead>\n",
              "    <tr style=\"text-align: right;\">\n",
              "      <th></th>\n",
              "      <th>Student_ID</th>\n",
              "      <th>Study_Hours_Per_Day</th>\n",
              "      <th>Extracurricular_Hours_Per_Day</th>\n",
              "      <th>Sleep_Hours_Per_Day</th>\n",
              "      <th>Social_Hours_Per_Day</th>\n",
              "      <th>Physical_Activity_Hours_Per_Day</th>\n",
              "      <th>GPA</th>\n",
              "    </tr>\n",
              "  </thead>\n",
              "  <tbody>\n",
              "    <tr>\n",
              "      <th>count</th>\n",
              "      <td>2000.000000</td>\n",
              "      <td>2000.000000</td>\n",
              "      <td>2000.000000</td>\n",
              "      <td>2000.000000</td>\n",
              "      <td>2000.000000</td>\n",
              "      <td>2000.00000</td>\n",
              "      <td>2000.000000</td>\n",
              "    </tr>\n",
              "    <tr>\n",
              "      <th>mean</th>\n",
              "      <td>1000.500000</td>\n",
              "      <td>7.475800</td>\n",
              "      <td>1.990100</td>\n",
              "      <td>7.501250</td>\n",
              "      <td>2.704550</td>\n",
              "      <td>4.32830</td>\n",
              "      <td>3.115960</td>\n",
              "    </tr>\n",
              "    <tr>\n",
              "      <th>std</th>\n",
              "      <td>577.494589</td>\n",
              "      <td>1.423888</td>\n",
              "      <td>1.155855</td>\n",
              "      <td>1.460949</td>\n",
              "      <td>1.688514</td>\n",
              "      <td>2.51411</td>\n",
              "      <td>0.298674</td>\n",
              "    </tr>\n",
              "    <tr>\n",
              "      <th>min</th>\n",
              "      <td>1.000000</td>\n",
              "      <td>5.000000</td>\n",
              "      <td>0.000000</td>\n",
              "      <td>5.000000</td>\n",
              "      <td>0.000000</td>\n",
              "      <td>0.00000</td>\n",
              "      <td>2.240000</td>\n",
              "    </tr>\n",
              "    <tr>\n",
              "      <th>25%</th>\n",
              "      <td>500.750000</td>\n",
              "      <td>6.300000</td>\n",
              "      <td>1.000000</td>\n",
              "      <td>6.200000</td>\n",
              "      <td>1.200000</td>\n",
              "      <td>2.40000</td>\n",
              "      <td>2.900000</td>\n",
              "    </tr>\n",
              "    <tr>\n",
              "      <th>50%</th>\n",
              "      <td>1000.500000</td>\n",
              "      <td>7.400000</td>\n",
              "      <td>2.000000</td>\n",
              "      <td>7.500000</td>\n",
              "      <td>2.600000</td>\n",
              "      <td>4.10000</td>\n",
              "      <td>3.110000</td>\n",
              "    </tr>\n",
              "    <tr>\n",
              "      <th>75%</th>\n",
              "      <td>1500.250000</td>\n",
              "      <td>8.700000</td>\n",
              "      <td>3.000000</td>\n",
              "      <td>8.800000</td>\n",
              "      <td>4.100000</td>\n",
              "      <td>6.10000</td>\n",
              "      <td>3.330000</td>\n",
              "    </tr>\n",
              "    <tr>\n",
              "      <th>max</th>\n",
              "      <td>2000.000000</td>\n",
              "      <td>10.000000</td>\n",
              "      <td>4.000000</td>\n",
              "      <td>10.000000</td>\n",
              "      <td>6.000000</td>\n",
              "      <td>13.00000</td>\n",
              "      <td>4.000000</td>\n",
              "    </tr>\n",
              "  </tbody>\n",
              "</table>\n",
              "</div>\n",
              "    <div class=\"colab-df-buttons\">\n",
              "\n",
              "  <div class=\"colab-df-container\">\n",
              "    <button class=\"colab-df-convert\" onclick=\"convertToInteractive('df-77ba743b-4b3a-4fb9-a57d-7da50c4b04d8')\"\n",
              "            title=\"Convert this dataframe to an interactive table.\"\n",
              "            style=\"display:none;\">\n",
              "\n",
              "  <svg xmlns=\"http://www.w3.org/2000/svg\" height=\"24px\" viewBox=\"0 -960 960 960\">\n",
              "    <path d=\"M120-120v-720h720v720H120Zm60-500h600v-160H180v160Zm220 220h160v-160H400v160Zm0 220h160v-160H400v160ZM180-400h160v-160H180v160Zm440 0h160v-160H620v160ZM180-180h160v-160H180v160Zm440 0h160v-160H620v160Z\"/>\n",
              "  </svg>\n",
              "    </button>\n",
              "\n",
              "  <style>\n",
              "    .colab-df-container {\n",
              "      display:flex;\n",
              "      gap: 12px;\n",
              "    }\n",
              "\n",
              "    .colab-df-convert {\n",
              "      background-color: #E8F0FE;\n",
              "      border: none;\n",
              "      border-radius: 50%;\n",
              "      cursor: pointer;\n",
              "      display: none;\n",
              "      fill: #1967D2;\n",
              "      height: 32px;\n",
              "      padding: 0 0 0 0;\n",
              "      width: 32px;\n",
              "    }\n",
              "\n",
              "    .colab-df-convert:hover {\n",
              "      background-color: #E2EBFA;\n",
              "      box-shadow: 0px 1px 2px rgba(60, 64, 67, 0.3), 0px 1px 3px 1px rgba(60, 64, 67, 0.15);\n",
              "      fill: #174EA6;\n",
              "    }\n",
              "\n",
              "    .colab-df-buttons div {\n",
              "      margin-bottom: 4px;\n",
              "    }\n",
              "\n",
              "    [theme=dark] .colab-df-convert {\n",
              "      background-color: #3B4455;\n",
              "      fill: #D2E3FC;\n",
              "    }\n",
              "\n",
              "    [theme=dark] .colab-df-convert:hover {\n",
              "      background-color: #434B5C;\n",
              "      box-shadow: 0px 1px 3px 1px rgba(0, 0, 0, 0.15);\n",
              "      filter: drop-shadow(0px 1px 2px rgba(0, 0, 0, 0.3));\n",
              "      fill: #FFFFFF;\n",
              "    }\n",
              "  </style>\n",
              "\n",
              "    <script>\n",
              "      const buttonEl =\n",
              "        document.querySelector('#df-77ba743b-4b3a-4fb9-a57d-7da50c4b04d8 button.colab-df-convert');\n",
              "      buttonEl.style.display =\n",
              "        google.colab.kernel.accessAllowed ? 'block' : 'none';\n",
              "\n",
              "      async function convertToInteractive(key) {\n",
              "        const element = document.querySelector('#df-77ba743b-4b3a-4fb9-a57d-7da50c4b04d8');\n",
              "        const dataTable =\n",
              "          await google.colab.kernel.invokeFunction('convertToInteractive',\n",
              "                                                    [key], {});\n",
              "        if (!dataTable) return;\n",
              "\n",
              "        const docLinkHtml = 'Like what you see? Visit the ' +\n",
              "          '<a target=\"_blank\" href=https://colab.research.google.com/notebooks/data_table.ipynb>data table notebook</a>'\n",
              "          + ' to learn more about interactive tables.';\n",
              "        element.innerHTML = '';\n",
              "        dataTable['output_type'] = 'display_data';\n",
              "        await google.colab.output.renderOutput(dataTable, element);\n",
              "        const docLink = document.createElement('div');\n",
              "        docLink.innerHTML = docLinkHtml;\n",
              "        element.appendChild(docLink);\n",
              "      }\n",
              "    </script>\n",
              "  </div>\n",
              "\n",
              "\n",
              "<div id=\"df-634aa2dc-f2b4-447f-9a38-524b324456dd\">\n",
              "  <button class=\"colab-df-quickchart\" onclick=\"quickchart('df-634aa2dc-f2b4-447f-9a38-524b324456dd')\"\n",
              "            title=\"Suggest charts\"\n",
              "            style=\"display:none;\">\n",
              "\n",
              "<svg xmlns=\"http://www.w3.org/2000/svg\" height=\"24px\"viewBox=\"0 0 24 24\"\n",
              "     width=\"24px\">\n",
              "    <g>\n",
              "        <path d=\"M19 3H5c-1.1 0-2 .9-2 2v14c0 1.1.9 2 2 2h14c1.1 0 2-.9 2-2V5c0-1.1-.9-2-2-2zM9 17H7v-7h2v7zm4 0h-2V7h2v10zm4 0h-2v-4h2v4z\"/>\n",
              "    </g>\n",
              "</svg>\n",
              "  </button>\n",
              "\n",
              "<style>\n",
              "  .colab-df-quickchart {\n",
              "      --bg-color: #E8F0FE;\n",
              "      --fill-color: #1967D2;\n",
              "      --hover-bg-color: #E2EBFA;\n",
              "      --hover-fill-color: #174EA6;\n",
              "      --disabled-fill-color: #AAA;\n",
              "      --disabled-bg-color: #DDD;\n",
              "  }\n",
              "\n",
              "  [theme=dark] .colab-df-quickchart {\n",
              "      --bg-color: #3B4455;\n",
              "      --fill-color: #D2E3FC;\n",
              "      --hover-bg-color: #434B5C;\n",
              "      --hover-fill-color: #FFFFFF;\n",
              "      --disabled-bg-color: #3B4455;\n",
              "      --disabled-fill-color: #666;\n",
              "  }\n",
              "\n",
              "  .colab-df-quickchart {\n",
              "    background-color: var(--bg-color);\n",
              "    border: none;\n",
              "    border-radius: 50%;\n",
              "    cursor: pointer;\n",
              "    display: none;\n",
              "    fill: var(--fill-color);\n",
              "    height: 32px;\n",
              "    padding: 0;\n",
              "    width: 32px;\n",
              "  }\n",
              "\n",
              "  .colab-df-quickchart:hover {\n",
              "    background-color: var(--hover-bg-color);\n",
              "    box-shadow: 0 1px 2px rgba(60, 64, 67, 0.3), 0 1px 3px 1px rgba(60, 64, 67, 0.15);\n",
              "    fill: var(--button-hover-fill-color);\n",
              "  }\n",
              "\n",
              "  .colab-df-quickchart-complete:disabled,\n",
              "  .colab-df-quickchart-complete:disabled:hover {\n",
              "    background-color: var(--disabled-bg-color);\n",
              "    fill: var(--disabled-fill-color);\n",
              "    box-shadow: none;\n",
              "  }\n",
              "\n",
              "  .colab-df-spinner {\n",
              "    border: 2px solid var(--fill-color);\n",
              "    border-color: transparent;\n",
              "    border-bottom-color: var(--fill-color);\n",
              "    animation:\n",
              "      spin 1s steps(1) infinite;\n",
              "  }\n",
              "\n",
              "  @keyframes spin {\n",
              "    0% {\n",
              "      border-color: transparent;\n",
              "      border-bottom-color: var(--fill-color);\n",
              "      border-left-color: var(--fill-color);\n",
              "    }\n",
              "    20% {\n",
              "      border-color: transparent;\n",
              "      border-left-color: var(--fill-color);\n",
              "      border-top-color: var(--fill-color);\n",
              "    }\n",
              "    30% {\n",
              "      border-color: transparent;\n",
              "      border-left-color: var(--fill-color);\n",
              "      border-top-color: var(--fill-color);\n",
              "      border-right-color: var(--fill-color);\n",
              "    }\n",
              "    40% {\n",
              "      border-color: transparent;\n",
              "      border-right-color: var(--fill-color);\n",
              "      border-top-color: var(--fill-color);\n",
              "    }\n",
              "    60% {\n",
              "      border-color: transparent;\n",
              "      border-right-color: var(--fill-color);\n",
              "    }\n",
              "    80% {\n",
              "      border-color: transparent;\n",
              "      border-right-color: var(--fill-color);\n",
              "      border-bottom-color: var(--fill-color);\n",
              "    }\n",
              "    90% {\n",
              "      border-color: transparent;\n",
              "      border-bottom-color: var(--fill-color);\n",
              "    }\n",
              "  }\n",
              "</style>\n",
              "\n",
              "  <script>\n",
              "    async function quickchart(key) {\n",
              "      const quickchartButtonEl =\n",
              "        document.querySelector('#' + key + ' button');\n",
              "      quickchartButtonEl.disabled = true;  // To prevent multiple clicks.\n",
              "      quickchartButtonEl.classList.add('colab-df-spinner');\n",
              "      try {\n",
              "        const charts = await google.colab.kernel.invokeFunction(\n",
              "            'suggestCharts', [key], {});\n",
              "      } catch (error) {\n",
              "        console.error('Error during call to suggestCharts:', error);\n",
              "      }\n",
              "      quickchartButtonEl.classList.remove('colab-df-spinner');\n",
              "      quickchartButtonEl.classList.add('colab-df-quickchart-complete');\n",
              "    }\n",
              "    (() => {\n",
              "      let quickchartButtonEl =\n",
              "        document.querySelector('#df-634aa2dc-f2b4-447f-9a38-524b324456dd button');\n",
              "      quickchartButtonEl.style.display =\n",
              "        google.colab.kernel.accessAllowed ? 'block' : 'none';\n",
              "    })();\n",
              "  </script>\n",
              "</div>\n",
              "\n",
              "    </div>\n",
              "  </div>\n"
            ],
            "application/vnd.google.colaboratory.intrinsic+json": {
              "type": "dataframe",
              "summary": "{\n  \"name\": \"student_lifestyle\",\n  \"rows\": 8,\n  \"fields\": [\n    {\n      \"column\": \"Student_ID\",\n      \"properties\": {\n        \"dtype\": \"number\",\n        \"std\": 720.5049024934813,\n        \"min\": 1.0,\n        \"max\": 2000.0,\n        \"num_unique_values\": 6,\n        \"samples\": [\n          2000.0,\n          1000.5,\n          1500.25\n        ],\n        \"semantic_type\": \"\",\n        \"description\": \"\"\n      }\n    },\n    {\n      \"column\": \"Study_Hours_Per_Day\",\n      \"properties\": {\n        \"dtype\": \"number\",\n        \"std\": 704.7730387676027,\n        \"min\": 1.423888369586789,\n        \"max\": 2000.0,\n        \"num_unique_values\": 8,\n        \"samples\": [\n          7.4758000000000004,\n          7.4,\n          2000.0\n        ],\n        \"semantic_type\": \"\",\n        \"description\": \"\"\n      }\n    },\n    {\n      \"column\": \"Extracurricular_Hours_Per_Day\",\n      \"properties\": {\n        \"dtype\": \"number\",\n        \"std\": 706.4438828338546,\n        \"min\": 0.0,\n        \"max\": 2000.0,\n        \"num_unique_values\": 8,\n        \"samples\": [\n          1.9901,\n          2.0,\n          2000.0\n        ],\n        \"semantic_type\": \"\",\n        \"description\": \"\"\n      }\n    },\n    {\n      \"column\": \"Sleep_Hours_Per_Day\",\n      \"properties\": {\n        \"dtype\": \"number\",\n        \"std\": 704.7648637127078,\n        \"min\": 1.4609485353055407,\n        \"max\": 2000.0,\n        \"num_unique_values\": 8,\n        \"samples\": [\n          7.50125,\n          7.5,\n          2000.0\n        ],\n        \"semantic_type\": \"\",\n        \"description\": \"\"\n      }\n    },\n    {\n      \"column\": \"Social_Hours_Per_Day\",\n      \"properties\": {\n        \"dtype\": \"number\",\n        \"std\": 706.1852057863458,\n        \"min\": 0.0,\n        \"max\": 2000.0,\n        \"num_unique_values\": 8,\n        \"samples\": [\n          2.7045500000000002,\n          2.6,\n          2000.0\n        ],\n        \"semantic_type\": \"\",\n        \"description\": \"\"\n      }\n    },\n    {\n      \"column\": \"Physical_Activity_Hours_Per_Day\",\n      \"properties\": {\n        \"dtype\": \"number\",\n        \"std\": 705.4786689237388,\n        \"min\": 0.0,\n        \"max\": 2000.0,\n        \"num_unique_values\": 8,\n        \"samples\": [\n          4.328300000000001,\n          4.1,\n          2000.0\n        ],\n        \"semantic_type\": \"\",\n        \"description\": \"\"\n      }\n    },\n    {\n      \"column\": \"GPA\",\n      \"properties\": {\n        \"dtype\": \"number\",\n        \"std\": 706.1482615197452,\n        \"min\": 0.2986735363916102,\n        \"max\": 2000.0,\n        \"num_unique_values\": 8,\n        \"samples\": [\n          3.11596,\n          3.11,\n          2000.0\n        ],\n        \"semantic_type\": \"\",\n        \"description\": \"\"\n      }\n    }\n  ]\n}"
            }
          },
          "metadata": {},
          "execution_count": 4
        }
      ]
    },
    {
      "cell_type": "code",
      "source": [
        "student_lifestyle.info()"
      ],
      "metadata": {
        "colab": {
          "base_uri": "https://localhost:8080/"
        },
        "id": "cL-qe0xXFzlw",
        "outputId": "5a7d99ab-4b69-434b-d34c-07879a0fe550"
      },
      "execution_count": null,
      "outputs": [
        {
          "output_type": "stream",
          "name": "stdout",
          "text": [
            "<class 'pandas.core.frame.DataFrame'>\n",
            "RangeIndex: 2000 entries, 0 to 1999\n",
            "Data columns (total 8 columns):\n",
            " #   Column                           Non-Null Count  Dtype  \n",
            "---  ------                           --------------  -----  \n",
            " 0   Student_ID                       2000 non-null   int64  \n",
            " 1   Study_Hours_Per_Day              2000 non-null   float64\n",
            " 2   Extracurricular_Hours_Per_Day    2000 non-null   float64\n",
            " 3   Sleep_Hours_Per_Day              2000 non-null   float64\n",
            " 4   Social_Hours_Per_Day             2000 non-null   float64\n",
            " 5   Physical_Activity_Hours_Per_Day  2000 non-null   float64\n",
            " 6   GPA                              2000 non-null   float64\n",
            " 7   Stress_Level                     2000 non-null   object \n",
            "dtypes: float64(6), int64(1), object(1)\n",
            "memory usage: 125.1+ KB\n"
          ]
        }
      ]
    },
    {
      "cell_type": "code",
      "source": [
        "student_lifestyle.duplicated().sum()"
      ],
      "metadata": {
        "colab": {
          "base_uri": "https://localhost:8080/"
        },
        "id": "3Zud8e-XGE4P",
        "outputId": "2fe080ce-c95c-4515-a7c9-af42fe614a19"
      },
      "execution_count": null,
      "outputs": [
        {
          "output_type": "execute_result",
          "data": {
            "text/plain": [
              "0"
            ]
          },
          "metadata": {},
          "execution_count": 6
        }
      ]
    },
    {
      "cell_type": "code",
      "source": [
        "student_lifestyle.drop_duplicates()\n",
        "print(student_lifestyle)"
      ],
      "metadata": {
        "colab": {
          "base_uri": "https://localhost:8080/"
        },
        "id": "e6guYv7zGNXn",
        "outputId": "ba981606-fd8e-45b1-bfce-809004b86e52"
      },
      "execution_count": null,
      "outputs": [
        {
          "output_type": "stream",
          "name": "stdout",
          "text": [
            "      Student_ID  Study_Hours_Per_Day  Extracurricular_Hours_Per_Day  \\\n",
            "0              1                  6.9                            3.8   \n",
            "1              2                  5.3                            3.5   \n",
            "2              3                  5.1                            3.9   \n",
            "3              4                  6.5                            2.1   \n",
            "4              5                  8.1                            0.6   \n",
            "...          ...                  ...                            ...   \n",
            "1995        1996                  6.5                            0.2   \n",
            "1996        1997                  6.3                            2.8   \n",
            "1997        1998                  6.2                            0.0   \n",
            "1998        1999                  8.1                            0.7   \n",
            "1999        2000                  9.0                            1.7   \n",
            "\n",
            "      Sleep_Hours_Per_Day  Social_Hours_Per_Day  \\\n",
            "0                     8.7                   2.8   \n",
            "1                     8.0                   4.2   \n",
            "2                     9.2                   1.2   \n",
            "3                     7.2                   1.7   \n",
            "4                     6.5                   2.2   \n",
            "...                   ...                   ...   \n",
            "1995                  7.4                   2.1   \n",
            "1996                  8.8                   1.5   \n",
            "1997                  6.2                   0.8   \n",
            "1998                  7.6                   3.5   \n",
            "1999                  7.3                   3.1   \n",
            "\n",
            "      Physical_Activity_Hours_Per_Day   GPA Stress_Level  \n",
            "0                                 1.8  2.99     Moderate  \n",
            "1                                 3.0  2.75          Low  \n",
            "2                                 4.6  2.67          Low  \n",
            "3                                 6.5  2.88     Moderate  \n",
            "4                                 6.6  3.51         High  \n",
            "...                               ...   ...          ...  \n",
            "1995                              7.8  3.32     Moderate  \n",
            "1996                              4.6  2.65     Moderate  \n",
            "1997                             10.8  3.14     Moderate  \n",
            "1998                              4.1  3.04         High  \n",
            "1999                              2.9  3.58         High  \n",
            "\n",
            "[2000 rows x 8 columns]\n"
          ]
        }
      ]
    },
    {
      "cell_type": "code",
      "source": [
        "student_lifestyle.isnull().sum()"
      ],
      "metadata": {
        "colab": {
          "base_uri": "https://localhost:8080/",
          "height": 335
        },
        "id": "0r1AnTMYGhQ3",
        "outputId": "34f3a059-69d7-47d6-a6dd-774185b908a8"
      },
      "execution_count": null,
      "outputs": [
        {
          "output_type": "execute_result",
          "data": {
            "text/plain": [
              "Student_ID                         0\n",
              "Study_Hours_Per_Day                0\n",
              "Extracurricular_Hours_Per_Day      0\n",
              "Sleep_Hours_Per_Day                0\n",
              "Social_Hours_Per_Day               0\n",
              "Physical_Activity_Hours_Per_Day    0\n",
              "GPA                                0\n",
              "Stress_Level                       0\n",
              "dtype: int64"
            ],
            "text/html": [
              "<div>\n",
              "<style scoped>\n",
              "    .dataframe tbody tr th:only-of-type {\n",
              "        vertical-align: middle;\n",
              "    }\n",
              "\n",
              "    .dataframe tbody tr th {\n",
              "        vertical-align: top;\n",
              "    }\n",
              "\n",
              "    .dataframe thead th {\n",
              "        text-align: right;\n",
              "    }\n",
              "</style>\n",
              "<table border=\"1\" class=\"dataframe\">\n",
              "  <thead>\n",
              "    <tr style=\"text-align: right;\">\n",
              "      <th></th>\n",
              "      <th>0</th>\n",
              "    </tr>\n",
              "  </thead>\n",
              "  <tbody>\n",
              "    <tr>\n",
              "      <th>Student_ID</th>\n",
              "      <td>0</td>\n",
              "    </tr>\n",
              "    <tr>\n",
              "      <th>Study_Hours_Per_Day</th>\n",
              "      <td>0</td>\n",
              "    </tr>\n",
              "    <tr>\n",
              "      <th>Extracurricular_Hours_Per_Day</th>\n",
              "      <td>0</td>\n",
              "    </tr>\n",
              "    <tr>\n",
              "      <th>Sleep_Hours_Per_Day</th>\n",
              "      <td>0</td>\n",
              "    </tr>\n",
              "    <tr>\n",
              "      <th>Social_Hours_Per_Day</th>\n",
              "      <td>0</td>\n",
              "    </tr>\n",
              "    <tr>\n",
              "      <th>Physical_Activity_Hours_Per_Day</th>\n",
              "      <td>0</td>\n",
              "    </tr>\n",
              "    <tr>\n",
              "      <th>GPA</th>\n",
              "      <td>0</td>\n",
              "    </tr>\n",
              "    <tr>\n",
              "      <th>Stress_Level</th>\n",
              "      <td>0</td>\n",
              "    </tr>\n",
              "  </tbody>\n",
              "</table>\n",
              "</div><br><label><b>dtype:</b> int64</label>"
            ]
          },
          "metadata": {},
          "execution_count": 8
        }
      ]
    },
    {
      "cell_type": "code",
      "source": [
        "features = ['Student_ID', 'Study_Hours_Per_Day','Extracurricular_Hours_Per_Day','GPA']\n",
        "X = student_lifestyle[features].values  # Access columns using the list\n",
        "y = student_lifestyle['Stress_Level'].values  # Replace 'Target_Variable' with the actual target column name, in this example, we're assuming 'Stress_Level' is the target\n",
        "\n",
        "label_encoder = LabelEncoder()\n",
        "y = label_encoder.fit_transform(y)\n",
        "\n",
        "# Split the dataset into training and testing sets\n",
        "X_train, X_test, y_train, y_test = train_test_split(X, y, test_size=0.2, random_state=42)\n",
        "\n",
        "# Standardize features\n",
        "scaler = StandardScaler()\n",
        "X_train = scaler.fit_transform(X_train)\n",
        "X_test = scaler.transform(X_test)"
      ],
      "metadata": {
        "id": "u192wOrTDCno"
      },
      "execution_count": null,
      "outputs": []
    },
    {
      "cell_type": "code",
      "source": [
        "# Initialize parameters\n",
        "a0, a1, a2, a3, a4 = 0, 0, 0, 0, 0\n",
        "a0_values, a1_values, a2_values, a3_values, a4_values = [], [], [], [], []  # Initialize lists to store parameter values\n",
        "alpha = 0.01\n",
        "m = len(y_train)\n",
        "\n",
        "# Function to compute predictions\n",
        "def predict(X):\n",
        "    return a0 + a1 * X[:, 0] + a2 * X[:, 1] + a3 * X[:, 2] + a4 * X[:,3]\n",
        "\n",
        "\n",
        "# Function to compute mean squared error\n",
        "def compute_mse(y_pred, y_true):\n",
        "    return (1/(2*m)) * np.sum((y_pred - y_true) ** 2)\n"
      ],
      "metadata": {
        "id": "eeKqFga37dyh"
      },
      "execution_count": null,
      "outputs": []
    },
    {
      "cell_type": "code",
      "source": [
        "# Gradient descent loop\n",
        "for iteration in range(100):  # Number of iterations\n",
        "    y_pred = predict(X_train)\n",
        "    mse = compute_mse(y_pred, y_train)\n",
        "    # Calculate gradients\n",
        "    da0 = (1/m) * np.sum(y_pred - y_train)\n",
        "    da1 = (1/m) * np.sum(X_train[:, 0] * (y_pred - y_train))\n",
        "    da2 = (1/m) * np.sum(X_train[:, 1] * (y_pred - y_train))\n",
        "    da3 = (1/m) * np.sum(X_train[:, 2] * (y_pred - y_train))\n",
        "    da4 = (1/m) * np.sum(X_train[:, 3] * (y_pred - y_train))\n",
        "    # Update parameters\n",
        "    a0 -= alpha * da0\n",
        "    a1 -= alpha * da1\n",
        "    a2 -= alpha * da2\n",
        "    a3 -= alpha * da3\n",
        "    a4 -= alpha * da4\n",
        "    #append values for a0, a1, a2, a3, a4\n",
        "    a0_values.append(a0)\n",
        "    a1_values.append(a1)\n",
        "    a2_values.append(a2)\n",
        "    a3_values.append(a3)\n",
        "    a4_values.append(a4)\n",
        "if iteration % 100 == 0:\n",
        "        print(f\"Iteration {iteration}: MSE = {mse}\")\n",
        "\n",
        "print(f\"Final coefficients: a0 = {a0}, a1 = {a1}, a2 = {a2}, a3 = {a3}, a4 ={a4}\")"
      ],
      "metadata": {
        "colab": {
          "base_uri": "https://localhost:8080/"
        },
        "id": "AzZoYtHp7tEh",
        "outputId": "13d6ed04-325b-4994-9b5e-b0af08543146"
      },
      "execution_count": null,
      "outputs": [
        {
          "output_type": "stream",
          "name": "stdout",
          "text": [
            "Final coefficients: a0 = 0.7604240778757977, a1 = 0.06028880357348962, a2 = -0.30721466295475086, a3 = -0.0033721461026760794, a4 =-0.1475281314918372\n"
          ]
        }
      ]
    },
    {
      "cell_type": "code",
      "source": [
        "print(a0_values)\n",
        "print(a1_values)\n",
        "print(a2_values)\n",
        "print(a3_values)\n",
        "print(a4_values)"
      ],
      "metadata": {
        "colab": {
          "base_uri": "https://localhost:8080/"
        },
        "id": "BkV0iV7e1vUD",
        "outputId": "97e7529b-52f7-4b9b-daa5-ee2d909478c4"
      },
      "execution_count": null,
      "outputs": [
        {
          "output_type": "stream",
          "name": "stdout",
          "text": [
            "[0.008275000000000001, 0.016467250000000003, 0.024577577500000006, 0.03260680172500001, 0.04055573370775001, 0.048425176370672514, 0.05621592460696579, 0.06392876536089613, 0.07156447770728717, 0.07912383293021431, 0.08660759460091218, 0.09401651865490306, 0.10135135346835403, 0.10861283993367049, 0.11580171153433379, 0.12291869441899045, 0.12996450747480054, 0.13693986240005254, 0.14384546377605203, 0.15068200913829152, 0.1574501890469086, 0.16415068715643952, 0.17078418028487513, 0.1773513384820264, 0.18385282509720613, 0.19028929684623408, 0.19666140387777176, 0.20296978983899405, 0.20921509194060411, 0.21539794102119808, 0.2215189616109861, 0.22757877199487625, 0.23357798427492749, 0.23951720443217822, 0.24539703238785646, 0.2512180620639779, 0.25698088144333814, 0.26268607262890475, 0.2683342119026157, 0.27392586978358957, 0.2794616110857537, 0.28494199497489614, 0.2903675750251472, 0.2957388992748958, 0.3010565102821468, 0.30632094517932534, 0.3115327357275321, 0.3166924083702568, 0.3218004842865543, 0.32685747944368876, 0.33186390464925186, 0.33682026560275935, 0.3417270629467318, 0.34658479231726447, 0.35139394439409183, 0.35615500495015096, 0.36086845490064945, 0.36553477035164295, 0.37015442264812654, 0.3747278784216453, 0.37925559963742883, 0.38373804364105457, 0.38817566320464403, 0.39256890657259763, 0.3969182175068717, 0.40122403533180295, 0.40548679497848494, 0.4097069270287001, 0.4138848577584131, 0.418021009180829, 0.42211579908902075, 0.42616964109813055, 0.43018294468714924, 0.43415611524027775, 0.438089554087875, 0.4419836585469962, 0.4458388219615263, 0.4496554337419111, 0.453433879404492, 0.4571745406104471, 0.46087779520434263, 0.4645440172522992, 0.46817357707977625, 0.4717668413089785, 0.47532417289588874, 0.47884593116692986, 0.48233247185526057, 0.485784147136708, 0.4892013056653409, 0.4925842926086875, 0.49593344968260067, 0.4992491151857747, 0.5025316240339169, 0.5057813077935778, 0.5089984947156421, 0.5121835097684857, 0.5153366746708009, 0.518458307924093, 0.521548724844852, 0.5246082375964035, 0.5276371552204395, 0.5306357836682352, 0.5336044258315529, 0.5365433815732373, 0.539452947757505, 0.54233341827993, 0.5451850840971307, 0.5480082332561594, 0.5508031509235979, 0.553570119414362, 0.5563094182202184, 0.5590213240380162, 0.5617061107976361, 0.5643640496896598, 0.5669954091927633, 0.5696004551008357, 0.5721794505498273, 0.5747326560443291, 0.5772603294838858, 0.579762726189047, 0.5822400989271566, 0.584692697937885, 0.5871207709585062, 0.5895245632489212, 0.591904317616432, 0.5942602744402677, 0.596592671695865, 0.5989017449789065, 0.6011877275291174, 0.6034508502538263, 0.605691341751288, 0.6079094283337751, 0.6101053340504374, 0.6122792807099331, 0.6144314879028338, 0.6165621730238054, 0.6186715512935674, 0.6207598357806318, 0.6228272374228254, 0.6248739650485972, 0.6269002253981112, 0.6289062231441301, 0.6308921609126888, 0.632858239303562, 0.6348046569105265, 0.6367316103414212, 0.638639294238007, 0.640527901295627, 0.6423976222826707, 0.644248646059844, 0.6460811595992456, 0.6478953480032532, 0.6496913945232207, 0.6514694805779885, 0.6532297857722086, 0.6549724879144865, 0.6566977630353417, 0.6584057854049883, 0.6600967275509384, 0.661770760275429, 0.6634280526726748, 0.6650687721459481, 0.6666930844244886, 0.6683011535802438, 0.6698931420444414, 0.671469210623997, 0.673029518517757, 0.6745742233325795, 0.6761034810992538, 0.6776174462882613, 0.6791162718253787, 0.680600109107125, 0.6820691080160538, 0.6835234169358932, 0.6849631827665343, 0.6863885509388691, 0.6877996654294805, 0.6891966687751857, 0.6905797020874339, 0.6919489050665596, 0.693304416015894, 0.6946463718557351, 0.6959749081371778, 0.697290159055806, 0.698592257465248, 0.6998813348905956, 0.7011575215416896, 0.7024209463262727, 0.70367173686301, 0.7049100194943799, 0.7061359192994362, 0.7073495601064419, 0.7085510645053775, 0.7097405538603238, 0.7109181483217205, 0.7120839668385034, 0.7132381271701184, 0.7143807458984172, 0.7155119384394331, 0.7166318190550388, 0.7177405008644885, 0.7188380958558437, 0.7199247148972853, 0.7210004677483124, 0.7220654630708293, 0.723119808440121, 0.7241636103557199, 0.7251969742521627, 0.7262200045096411, 0.7272328044645447, 0.7282354764198993, 0.7292281216557003, 0.7302108404391433, 0.731183732034752, 0.7321468947144044, 0.7331004257672604, 0.7340444215095878, 0.734978977294492, 0.7359041875215472, 0.7368201456463317, 0.7377269441898684, 0.7386246747479698, 0.7395134280004901, 0.7403932937204852, 0.7412643607832804, 0.7421267171754476, 0.7429804500036932, 0.7438256455036563, 0.7446623890486197, 0.7454907651581335, 0.7463108575065522, 0.7471227489314868, 0.747926521442172, 0.7487222562277502, 0.7495100336654728, 0.7502899333288181, 0.75106203399553, 0.7518264136555747, 0.752583149519019, 0.7533323180238288, 0.7540739948435906, 0.7548082548951547, 0.7555351723462032, 0.7562548206227412, 0.7569672724165138, 0.7576725996923488, 0.7583708736954253, 0.7590621649584711, 0.7597465433088865, 0.7604240778757977]\n",
            "[0.0006700392073123119, 0.0013330931851701527, 0.001989236724909315, 0.002638543787146963, 0.0032810875114862594, 0.00391694022610015, 0.004546173457195924, 0.005168857938362149, 0.005785063619799535, 0.0063948596774372896, 0.006998314521936489, 0.007595495807581958, 0.008186470441064148, 0.008771304590152487, 0.009350063692261604, 0.009922812462911905, 0.010489614904085839, 0.011050534312481276, 0.01160563328766335, 0.012154973740116086, 0.012698616899195159, 0.013236623320983076, 0.013769052896048068, 0.014295964857107952, 0.014817417786600225, 0.01533346962415961, 0.015844177674004267, 0.01634959861223188, 0.016849788494026775, 0.017344802760779265, 0.017834696247118333, 0.01831952318785881, 0.01879933722486414, 0.019274191413825886, 0.01974413823096096, 0.020209229579627758, 0.020669516796862165, 0.021125050659834534, 0.021575881392228612, 0.02202205867054347, 0.022463631630319378, 0.02290064887228868, 0.023333158468452565, 0.02376120796808472, 0.024184844403662847, 0.024604114296728888, 0.02501906366367895, 0.025429738021483794, 0.025836182393340793, 0.026238441314258235, 0.02663655883657283, 0.02703057853540129, 0.027420543514026823, 0.027806496409221355, 0.02818847939650431, 0.02856653419533879, 0.028940702074265873, 0.0293110238559779, 0.029677539922331492, 0.030040290219301036, 0.030399314261873447, 0.03075465113888491, 0.03110633951780036, 0.0314544176494364, 0.03179892337262841, 0.03213989411884251, 0.0324773669167331, 0.03281137839664667, 0.0331419647950725, 0.03346916195904098, 0.033793005350470244, 0.03411353005046159, 0.03443077076354456, 0.03474476182187214, 0.03505553718936678, 0.03536313046581784, 0.03566757489093106, 0.035968903348330625, 0.03626714836951451, 0.03656234213776354, 0.03685451649200492, 0.03714370293063061, 0.03742993261527127, 0.03771323637452624, 0.037993644707650105, 0.03827118778819641, 0.03854589546761904, 0.03881779727883178, 0.03908692243972661, 0.039353299856651196, 0.039616958127846075, 0.03987792554684214, 0.04013623010581874, 0.040391899498923, 0.04064496112555086, 0.04089544209359016, 0.04114336922262641, 0.04138876904711155, 0.04163166781949629, 0.04187209151332635, 0.04211006582630314, 0.04234561618330925, 0.042578767739399226, 0.042809545382755984, 0.04303797373761341, 0.0432640771671454, 0.043487879776321854, 0.04370940541473201, 0.04392867767937548, 0.044145719917421396, 0.044360555228936074, 0.04457320646957955, 0.04478369625327139, 0.04499204695482606, 0.04519828071255841, 0.045402419430859396, 0.045604484782742614, 0.045804498212361835, 0.046002480937499965, 0.046198453952029796, 0.04639243802834683, 0.04658445371977456, 0.04677452136294244, 0.046962661080137066, 0.04714889278162667, 0.04733323616795937, 0.047515710732235476, 0.047696335762354165, 0.047875130343234755, 0.04805211335901301, 0.04822730349521264, 0.04840071924089243, 0.04857237889076914, 0.04874230054731656, 0.04891050212284102, 0.04907700134153352, 0.049241815741498905, 0.04940496267676223, 0.04956645931925267, 0.049726322660765175, 0.04988456951490018, 0.05004121651898166, 0.050196280135953654, 0.05034977665625567, 0.050501722199677086, 0.05065213271719095, 0.05080102399276719, 0.05094841164516575, 0.051094311129709656, 0.05123873774003837, 0.05138170660984165, 0.0515232327145741, 0.05166333087315071, 0.05180201574962348, 0.051939301854839526, 0.05207520354808072, 0.05220973503868519, 0.05234291038765081, 0.05247474350922098, 0.05260524817245283, 0.05273443800276802, 0.0528623264834865, 0.05298892695734322, 0.05311425262798815, 0.05323831656146972, 0.05336113168770189, 0.05348271080191504, 0.05360306656609088, 0.053722211510381555, 0.05384015803451312, 0.053956918409173577, 0.054072504777385635, 0.054186929155864406, 0.05430020343636016, 0.05441233938698635, 0.05452334865353307, 0.054633242760766074, 0.05474203311371161, 0.05484973099892713, 0.05495634758575808, 0.05506189392758096, 0.055166380963032786, 0.0552698195172271, 0.05537222030295665, 0.055473593921883016, 0.05557395086571316, 0.055673301517363195, 0.055771656152109446, 0.05586902493872693, 0.05596541794061549, 0.0560608451169136, 0.05615531632360009, 0.05624884131458385, 0.05634142974278173, 0.056433091161184654, 0.05652383502391221, 0.05661367068725575, 0.05670260741071019, 0.056790654357994595, 0.05687782059806171, 0.05696411510609652, 0.05704954676450406, 0.05713412436388641, 0.05721785660400923, 0.05730075209475776, 0.05738281935708253, 0.0574640668239348, 0.0575445028411919, 0.05762413566857263, 0.0577029734805427, 0.05778102436721045, 0.05785829633521287, 0.05793479730859209, 0.05801053512966244, 0.05808551755986812, 0.058159752280631666, 0.058233246894193284, 0.05830600892444115, 0.05837804581773275, 0.058449364943707456, 0.05851997359609027, 0.058589878993487055, 0.058659088280171114, 0.0587276085268614, 0.058795446731492354, 0.05886260981997547, 0.05892910464695274, 0.05899493799654194, 0.05906011658307405, 0.05912464705182268, 0.05918853597972573, 0.05925178987609933, 0.05931441518334413, 0.05937641827764403, 0.059437805469657504, 0.05949858300520144, 0.05955875706592775, 0.059618333769992767, 0.0596773191727194, 0.059735719267252366, 0.05979353998520632, 0.059850787197307125, 0.0599074667140263, 0.05996358428620869, 0.06001914560569343, 0.060074156305928356, 0.06012862196257784, 0.06018254809412416, 0.06023594016246251, 0.06028880357348962]\n",
            "[-0.00442850825472992, -0.008786684541731371, -0.013075730490653335, -0.01729682695366778, -0.021451134365421808, -0.025539793096751858, -0.029563923802268154, -0.03352462776191553, -0.03742298721661515, -0.04126006569808955, -0.045036908352972006, -0.04875454226129908, -0.05241397674948386, -0.056016203697865474, -0.059562197842928856, -0.06305291707428717, -0.06648930272651768, -0.06987227986594016, -0.07320275757242571, -0.0764816292163218, -0.07970977273057846, -0.08288805087815858, -0.08601731151481429, -0.08909838784730939, -0.09213209868716714, -0.09511924870002059, -0.09806062865064198, -0.10095701564372589, -0.10380917336049979, -0.10661785229123434, -0.10938378996372446, -0.11210771116781099, -0.11479032817601165, -0.11743234096032859, -0.12003443740529889, -0.12259729351735309, -0.1251215736305458, -0.1276079306087211, -0.13005700604417475, -0.13246943045287368, -0.13484582346629262, -0.1371867940199264, -0.1394929405385356, -0.14176485111818196, -0.14400310370510963, -0.14620826627152628, -0.14838089698833845, -0.15052154439489354, -0.15263074756578035, -0.15470903627473923, -0.15675693115573192, -0.1587749438612204, -0.1607635772177028, -0.16272332537855425, -0.1646546739742193, -0.16655810025980153, -0.16843407326009602, -0.17028305391210832, -0.17210549520510407, -0.17390184231823166, -0.17567253275576025, -0.17741799647997433, -0.17913865604176546, -0.18083492670896112, -0.18250721659242997, -0.18415592677000178, -0.18578145140824034, -0.1873841778821061, -0.18896448689254539, -0.19052275258204218, -0.19205934264816746, -0.1935746184551611, -0.19506893514358042, -0.19654264173804858, -0.19799608125313614, -0.1994295907974079, -0.2008435016756669, -0.20223813948942676, -0.20361382423564317, -0.20497087040373463, -0.20630958707092203, -0.20763027799591635, -0.208933241710983, -0.21021877161241084, -0.211487156049414, -0.21273867841149285, -0.21397361721428157, -0.21519224618390825, -0.21639483433989318, -0.2175816460766109, -0.21875294124334074, -0.21990897522293035, -0.22104999900909633, -0.22217625928238546, -0.2232879984848198, -0.22438545489324857, -0.2254688626914289, -0.22653845204085798, -0.22759444915037777, -0.22863707634457378, -0.22966655213098883, -0.23068309126617217, -0.2316869048205844, -0.23267820024237773, -0.23365718142007127, -0.23462404874414045, -0.23557899916753922, -0.236522226265174, -0.23745392029234685, -0.23837426824218638, -0.2392834539020835, -0.24018165790914944, -0.2410690578047131, -0.24194582808787402, -0.24281214026812764, -0.24366816291707893, -0.24451406171926002, -0.24534999952206732, -0.24617613638483374, -0.24699262962705062, -0.24779963387575427, -0.2485973011120915, -0.24938578071707862, -0.25016521951656756, -0.250935761825433, -0.2516975494909941, -0.252450721935684, -0.25319541619898, -0.2539317669786075, -0.2546599066710299, -0.25537996541123764, -0.25609207111184723, -0.2567963495015235, -0.25749292416273606, -0.25818191656886164, -0.25886344612064394, -0.25953763018202164, -0.2602045841153359, -0.2608644213159282, -0.2615172532461381, -0.2621631894687133, -0.26280233767963973, -0.26343480374040373, -0.26406069170969526, -0.2646801038745616, -0.26529314078102195, -0.2658999012641513, -0.2665004824776434, -0.2670949799228617, -0.26768348747738685, -0.2682660974230702, -0.2688429004736009, -0.26941398580159553, -0.2699794410652192, -0.2705393524343447, -0.27109380461625887, -0.27164288088092414, -0.2721866630858019, -0.2727252317002464, -0.2732586658294758, -0.27378704323812836, -0.27431044037341057, -0.2748289323878442, -0.2753425931616197, -0.275851495324562, -0.2763557102777164, -0.27685530821456034, -0.27735035814184783, -0.277840927900093, -0.27832708418369884, -0.27880889256073715, -0.27928641749238653, -0.27975972235203306, -0.2802288694440407, -0.28069392002219634, -0.28115493430783567, -0.28161197150765493, -0.2820650898312145, -0.28251434650813906, -0.28295979780502034, -0.28340149904202666, -0.28383950460922525, -0.2842738679826219, -0.2847046417399226, -0.28513187757602276, -0.28555562631822756, -0.2859759379412094, -0.28639286158170607, -0.2868064455529645, -0.28721673735893416, -0.28762378370821534, -0.28802763052776525, -0.2884283229763672, -0.2888259054578667, -0.2892204216341778, -0.2896119144380652, -0.29000042608570403, -0.2903859980890231, -0.2907686712678338, -0.29114848576174945, -0.2915254810418981, -0.29189969592243276, -0.29227116857184193, -0.292639936524065, -0.2930060366894147, -0.29336950536531076, -0.2937303782468276, -0.29408869043705954, -0.2944444764573068, -0.2947977702570847, -0.2951486052239601, -0.2954970141932173, -0.2958430294573567, -0.2961866827754292, -0.2965280053822089, -0.2968670279972071, -0.29720378083353016, -0.2975382936065844, -0.29787059554263, -0.2982007153871871, -0.29852868141329636, -0.29885452142963637, -0.29917826278850096, -0.29949993239363837, -0.29981955670795446, -0.30013716176108296, -0.3004527731568247, -0.30076641608045807, -0.3010781153059227, -0.3013878952028795, -0.301695779743648, -0.30200179251002374, -0.30230595669997806, -0.30260829513424153, -0.3029088302627738, -0.3032075841711214, -0.30350457858666563, -0.30379983488476214, -0.3040933740947747, -0.30438521690600434, -0.30467538367351593, -0.304963894423864, -0.3052507688607197, -0.3055360263704001, -0.30581968602730225, -0.3061017665992429, -0.30638228655270605, -0.3066612640579999, -0.30693871699432435, -0.30721466295475086]\n",
            "[-8.829307413638876e-06, -1.8475469034280235e-05, -2.891080907244478e-05, -4.0108285530262956e-05, -5.204147753661459e-05, -6.46845729198388e-05, -7.801235601370208e-05, -9.200019569239206e-05, -0.00010662403363037885, -0.00012186037278305772, -0.0001376862660841635, -0.0001540793053560162, -0.00017101761042872716, -0.00018847981846456665, -0.0002064450734837578, -0.00022489301608803243, -0.00024380377337834637, -0.0002631579490632182, -0.0002829366137542179, -0.00030312129544519283, -0.0003236939701718816, -0.00034463705284862404, -0.0003659333882789361, -0.00038756624233677434, -0.000409519293315373, -0.0004317766234405918, -0.00045432271054576725, -0.00047714241990511454, -0.0005002209962227784, -0.0005235440557746856, -0.0005470975787004008, -0.0005708679014422384, -0.0005948417093289317, -0.0006190060293012102, -0.0006433482227766809, -0.0006678559786514599, -0.0006925173064360418, -0.000717320529522944, -0.0007422542785837025, -0.0007673074850928446, -0.0007924693749765014, -0.0008177294623833675, -0.0008430775435757577, -0.0008685036909385462, -0.0008939982471038211, -0.0009195518191891166, -0.0009451552731471321, -0.0009707997282248808, -0.0009964765515302466, -0.0010221773527039676, -0.0010478939786950974, -0.001073618508638033, -0.0010993432488292283, -0.0011250607278017511, -0.0011507636914958733, -0.001176445098523911, -0.001202098115527573, -0.0012277161126261005, -0.0012532926589535138, -0.0012788215182833107, -0.0013042966447389967, -0.0013297121785888484, -0.0013550624421233453, -0.001380341935613734, -0.0014055453333502127, -0.0014306674797582536, -0.0014557033855916108, -0.0014806482242005782, -0.0015054973278741, -0.0015302461842543501, -0.001554890432822433, -0.0015794258614538704, -0.001603848403042575, -0.0016281541321920261, -0.001652339261972393, -0.0016764001407423657, -0.0017003332490344858, -0.0017241351965027836, -0.0017478027189315524, -0.0017713326753041137, -0.001794722044930444, -0.0018179679246325593, -0.001841067525986567, -0.0018640181726203233, -0.0018868172975656443, -0.0019094624406640445, -0.0019319512460249935, -0.001954281459535698, -0.001976450926421438, -0.0019984575888554994, -0.0020202994836177658, -0.002041974739801052, -0.0020634815765642658, -0.002084818300931523, -0.0021059833056363336, -0.002126975067010007, -0.0021477921429134393, -0.0021684331707114536, -0.002188896865288886, -0.0022091820171076236, -0.0022292874903038096, -0.002249212220824456, -0.002268955214602707, -0.002288515545771018, -0.002307892354911521, -0.002327084847342874, -0.0023460922914428843, -0.0023649140170062303, -0.0023835494136366033, -0.0024019979291726103, -0.002420259068146789, -0.002438332390277101, -0.002456217508990273, -0.0024739140899763764, -0.0024914218497740464, -0.002508740554385741, -0.002525870017922467, -0.0025428101012774013, -0.0025595607108278504, -0.0025761217971649927, -0.0025924933538508757, -0.002608675416202131, -0.002624668060099892, -0.002640471400825406, -0.0026560855919208364, -0.00267151082407477, -0.0026867473240319456, -0.002701795353526729, -0.0027166552082398755, -0.00273132721677812, -0.0027458117396761523, -0.002760109168420534, -0.0027742199244951337, -0.0027881444584476477, -0.002801883248976806, -0.0028154368020398422, -0.00282880564997984, -0.002841990350672555, -0.002854991486692335, -0.0028678096644967556, -0.002880445513629606, -0.002892899685941858, -0.0029051728548302623, -0.0029172657144932216, -0.002929178979203602, -0.0029409133825981366, -0.0029524696769831003, -0.002963848632655925, -0.0029750510372424377, -0.002986077695049413, -0.0029969294264321285, -0.003007607067176624, -0.003018111467896371, -0.0030284434934430625, -0.0030386040223312353, -0.0030485939461764515, -0.00305841416914676, -0.0030680656074271767, -0.0030775491886969107, -0.003086865851619088, -0.003096016545342712, -0.0031050022290166138, -0.003113823871315152, -0.003122482449975416, -0.0031309789513457066, -0.003139314369945052, -0.0031474897080335453, -0.003155505975193274, -0.003163364187919625, -0.003171065369222754, -0.0031786105482390103, -0.0031860007598521057, -0.0031932370443238348, -0.0032003204469341433, -0.0032072520176303497, -0.0032140328106853365, -0.003220663884364516, -0.0032271463006013955, -0.0032334811246815575, -0.003239669424934879, -0.003245712272435823, -0.0032516107407116234, -0.0032573659054582053, -0.003262978844263675, -0.003268450636339219, -0.0032737823622572566, -0.0032789751036966905, -0.003284029943195109, -0.003288947963907788, -0.003293730249373348, -0.0032983778832859256, -0.0033028919492737218, -0.003307273530683785, -0.0033115237103728996, -0.003315643570504448, -0.0033196341923511135, -0.003323496656103303, -0.0033272320406831624, -0.0033308414235640616, -0.0033343258805954364, -0.0033376864858328625, -0.003340924311373253, -0.0033440404271950644, -0.0033470359010034016, -0.003349911798079914, -0.003352669181137376, -0.003355309110178851, -0.0033578326423613354, -0.003360240831863779, -0.0033625347297593917, -0.0033647153838921367, -0.003366783838757314, -0.003368741135386147, -0.0033705883112342782, -0.0033723264000740877, -0.0033739564318907467, -0.0033754794327819217, -0.003376896424861045, -0.003378208426164074, -0.0033794164505596487, -0.003380521507662586, -0.0033815246027506167, -0.003382426736684301, -0.003383228905830045, -0.0033839321019861453, -0.0033845373123117923, -0.0033850455192589624, -0.0033854577005071303, -0.0033857748289007356, -0.0033859978723893383, -0.003386127793970399, -0.0033861655516346217, -0.003386112098313795, -0.0033859683818310777, -0.003385735344853661, -0.0033854139248477595, -0.0033850050540358656, -0.0033845096593562176, -0.0033839286624244257, -0.0033832629794972, -0.0033825135214381337, -0.0033816811936854853, -0.003380766896221913, -0.003379771523546113, -0.003378695964646309, -0.0033775411029755525, -0.0033763078164287825, -0.0033749969773216025, -0.003373609452370731, -0.0033721461026760794]\n",
            "[-0.003554129153812029, -0.0070402425817811184, -0.010459536326469288, -0.013813185653625831, -0.01710234541243017, -0.020328150389490453, -0.023491715656706085, -0.026594136913100613, -0.029636490820729416, -0.03261983533476492, -0.035545210027860236, -0.03841363640889047, -0.04122611823616904, -0.04398364182523482, -0.046687176351304246, -0.04933767414648078, -0.05193607099181267, -0.05448328640428824, -0.05698022391885651, -0.059427771365559316, -0.06182680114185971, -0.06417817048024986, -0.06648272171122033, -0.068741282521671, -0.07095466620884286, -0.07312367192984809, -0.07524908494687486, -0.07733167686814175, -0.07937220588467549, -0.08137141700298439, -0.08333004227369867, -0.08524880101624746, -0.08712840003964133, -0.08896953385942767, -0.09077288491088543, -0.09253912375852431, -0.0942689093019524, -0.09596288897817538, -0.09762169896038897, -0.09924596435332546, -0.10083629938521413, -0.10239330759641412, -0.1039175820247775, -0.10540970538779922, -0.10687025026160957, -0.10829977925686401, -0.10969884519158395, -0.11106799126100148, -0.11240775120446, -0.11371864946942165, -0.11500120137263167, -0.1162559132584893, -0.11748328265467313, -0.11868379842506886, -0.11985794092004619, -0.12100618212413053, -0.12212898580111506, -0.12322680763665717, -0.12430009537840309, -0.1253492889736835, -0.1263748207048222, -0.1273771153220992, -0.12835659017440887, -0.1293136553376533, -0.13024871374090982, -0.13116216129041144, -0.13205438699137814, -0.13292577306773606, -0.1337766950797616, -0.1346075220396858, -0.13541861652529508, -0.13621033479156236, -0.13698302688034325, -0.13773703672817042, -0.1384727022721795, -0.13919035555419867, -0.1398903228230337, -0.14057292463497997, -0.14123847595259195, -0.1418872862417406, -0.14251965956698803, -0.14313589468530896, -0.14373628513818734, -0.14432111934211642, -0.14489068067752994, -0.14544524757619173, -0.1459850936070701, -0.1465104875607237, -0.14702169353222447, -0.1475189710026429, -0.14800257491912083, -0.1484727557735559, -0.14892975967992209, -0.14937382845024968, -0.14980519966928815, -0.15022410676787443, -0.15063077909502956, -0.15102544198880513, -0.15140831684590172, -0.15177962119008023, -0.15213956873938725, -0.15248836947221506, -0.15282622969221615, -0.15315335209209252, -0.15346993581627896, -0.15377617652253966, -0.15407226644249689, -0.15435839444111024, -0.1546347460751248, -0.1549015036505058, -0.1551588462788777, -0.15540694993298457, -0.15564598750118921, -0.15587612884102708, -0.1560975408318319, -0.15631038742644884, -0.15651482970205116, -0.15671102591007563, -0.15689913152529236, -0.15707929929402376, -0.1572516792815275, -0.157416418918558, -0.15757366304712056, -0.1577235539654321, -0.1578662314721026, -0.15800183290955025, -0.15813049320666403, -0.1582523449207265, -0.15836751827860968, -0.15847614121725664, -0.15857833942346136, -0.1586742363729585, -0.15876395336883573, -0.15884760957927987, -0.15892532207466853, -0.15899720586401864, -0.15906337393080294, -0.15912393726814555, -0.15917900491340706, -0.1592286839821701, -0.15927307970163554, -0.15931229544343953, -0.15934643275590163, -0.15937559139571367, -0.15939986935907907, -0.15941936291231235, -0.1594341666219078, -0.15944437338408693, -0.1594500744538335, -0.15945135947342498, -0.15944831650046934, -0.15944103203545557, -0.1594295910488265, -0.1594140770075822, -0.15939457190142178, -0.1593711562684322, -0.15934390922033134, -0.15931290846727333, -0.15927823034222388, -0.15923994982491266, -0.1591981405653705, -0.15915287490705812, -0.15910422390959417, -0.15905225737108863, -0.15899704385008928, -0.15893865068714721, -0.15887714402600864, -0.15881258883443894, -0.1587450489246857, -0.1586745869735867, -0.15860126454232926, -0.15852514209586685, -0.15844627902199895, -0.15836473365011997, -0.15828056326964285, -0.15819382414810346, -0.15810457154895052, -0.1580128597490274, -0.15791874205575032, -0.1578222708239888, -0.15772349747265335, -0.15762247250099523, -0.1575192455046236, -0.1574138651912449, -0.15730637939612907, -0.15719683509730756, -0.1570852784305077, -0.156971754703828, -0.15685630841215883, -0.15673898325135305, -0.1566198221321507, -0.15649886719386213, -0.15637615981781394, -0.15625174064056133, -0.1561256495668715, -0.15599792578248178, -0.1558686077666363, -0.15573773330440518, -0.15560533949879016, -0.15547146278261992, -0.15533613893023926, -0.1551994030689954, -0.15506128969052493, -0.15492183266184492, -0.15478106523625168, -0.1546390200640304, -0.15449572920297885, -0.1543512241287486, -0.15420553574500673, -0.1540586943934212, -0.1539107298634731, -0.15376167140209834, -0.15361154772316232, -0.15346038701676998, -0.15330821695841443, -0.15315506471796664, -0.15300095696850935, -0.15284591989501745, -0.15268997920288782, -0.15253316012632115, -0.1523754874365582, -0.15221698544997325, -0.1520576780360269, -0.15189758862508096, -0.15173674021607766, -0.15157515538408559, -0.15141285628771461, -0.1512498646764021, -0.15108620189757274, -0.1509218889036739, -0.150756946259089, -0.1505913941469309, -0.15042525237571722, -0.15025854038592984, -0.15009127725646054, -0.14992348171094477, -0.1497551721239853, -0.14958636652726792, -0.14941708261557113, -0.14924733775267104, -0.14907714897714422, -0.14890653300806947, -0.14873550625063067, -0.14856408480162245, -0.14839228445486008, -0.14822012070649548, -0.14804760876024098, -0.14787476353250228, -0.14770159965742224, -0.1475281314918372]\n"
          ]
        }
      ]
    },
    {
      "cell_type": "code",
      "source": [
        "# Plotting the convergence of parameters\n",
        "plt.figure(figsize=(12, 8))\n",
        "\n",
        "plt.subplot(3, 2, 1)\n",
        "plt.plot(a0_values)\n",
        "plt.title('Convergence of a0')\n",
        "\n"
      ],
      "metadata": {
        "colab": {
          "base_uri": "https://localhost:8080/",
          "height": 282
        },
        "id": "h5VThIEoaYB-",
        "outputId": "6534eeb5-2562-4bb5-c54c-f04a9bbb0197"
      },
      "execution_count": null,
      "outputs": [
        {
          "output_type": "execute_result",
          "data": {
            "text/plain": [
              "Text(0.5, 1.0, 'Convergence of a0')"
            ]
          },
          "metadata": {},
          "execution_count": 13
        },
        {
          "output_type": "display_data",
          "data": {
            "text/plain": [
              "<Figure size 1200x800 with 1 Axes>"
            ],
            "image/png": "[encoded data removed]"
          },
          "metadata": {}
        }
      ]
    },
    {
      "cell_type": "code",
      "source": [
        "plt.subplot(3, 2, 2)\n",
        "plt.plot(a1_values)\n",
        "plt.title('Convergence of a1')\n"
      ],
      "metadata": {
        "colab": {
          "base_uri": "https://localhost:8080/",
          "height": 209
        },
        "id": "Y4LTMTVh8Ru5",
        "outputId": "0b311052-0357-4905-d898-d503ec07e6f8"
      },
      "execution_count": null,
      "outputs": [
        {
          "output_type": "execute_result",
          "data": {
            "text/plain": [
              "Text(0.5, 1.0, 'Convergence of a1')"
            ]
          },
          "metadata": {},
          "execution_count": 14
        },
        {
          "output_type": "display_data",
          "data": {
            "text/plain": [
              "<Figure size 640x480 with 1 Axes>"
            ],
            "image/png": "[encoded data removed]"
          },
          "metadata": {}
        }
      ]
    },
    {
      "cell_type": "code",
      "source": [
        "plt.subplot(3, 2, 3)\n",
        "plt.plot(a2_values)\n",
        "plt.title('Convergence of a2')\n"
      ],
      "metadata": {
        "colab": {
          "base_uri": "https://localhost:8080/",
          "height": 209
        },
        "id": "cWpXr9TQ8SsJ",
        "outputId": "d42811a9-14d6-4504-d1d4-3e9faa63cf17"
      },
      "execution_count": null,
      "outputs": [
        {
          "output_type": "execute_result",
          "data": {
            "text/plain": [
              "Text(0.5, 1.0, 'Convergence of a2')"
            ]
          },
          "metadata": {},
          "execution_count": 15
        },
        {
          "output_type": "display_data",
          "data": {
            "text/plain": [
              "<Figure size 640x480 with 1 Axes>"
            ],
            "image/png": "[encoded data removed]"
          },
          "metadata": {}
        }
      ]
    },
    {
      "cell_type": "code",
      "source": [
        "plt.subplot(3, 2, 4)\n",
        "plt.plot(a3_values)\n",
        "plt.title('Convergence of a3')"
      ],
      "metadata": {
        "colab": {
          "base_uri": "https://localhost:8080/",
          "height": 209
        },
        "id": "S7jfNKrr8Zfp",
        "outputId": "1609fcf6-0215-4985-8987-a572a31c8317"
      },
      "execution_count": null,
      "outputs": [
        {
          "output_type": "execute_result",
          "data": {
            "text/plain": [
              "Text(0.5, 1.0, 'Convergence of a3')"
            ]
          },
          "metadata": {},
          "execution_count": 16
        },
        {
          "output_type": "display_data",
          "data": {
            "text/plain": [
              "<Figure size 640x480 with 1 Axes>"
            ],
            "image/png": "[encoded data removed]"
          },
          "metadata": {}
        }
      ]
    },
    {
      "cell_type": "code",
      "source": [
        "plt.subplot(3, 2, 5)\n",
        "plt.plot(a4_values)\n",
        "plt.title('Convergence of a4')\n"
      ],
      "metadata": {
        "id": "qWwQLwnI8ch5",
        "colab": {
          "base_uri": "https://localhost:8080/",
          "height": 209
        },
        "outputId": "dbb3e505-6cff-4cd0-f138-0b91c616a918"
      },
      "execution_count": null,
      "outputs": [
        {
          "output_type": "execute_result",
          "data": {
            "text/plain": [
              "Text(0.5, 1.0, 'Convergence of a4')"
            ]
          },
          "metadata": {},
          "execution_count": 17
        },
        {
          "output_type": "display_data",
          "data": {
            "text/plain": [
              "<Figure size 640x480 with 1 Axes>"
            ],
            "image/png": "[encoded data removed]"
          },
          "metadata": {}
        }
      ]
    },
    {
      "cell_type": "code",
      "source": [
        "plt.tight_layout()\n",
        "plt.show()"
      ],
      "metadata": {
        "id": "EYEy-8gJ8dup",
        "colab": {
          "base_uri": "https://localhost:8080/",
          "height": 35
        },
        "outputId": "b35e0d2c-ed55-4f29-ed32-2b28dafee7a3"
      },
      "execution_count": null,
      "outputs": [
        {
          "output_type": "display_data",
          "data": {
            "text/plain": [
              "<Figure size 640x480 with 0 Axes>"
            ]
          },
          "metadata": {}
        }
      ]
    }
  ]
}